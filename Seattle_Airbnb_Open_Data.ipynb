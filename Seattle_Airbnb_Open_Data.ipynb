{
  "nbformat": 4,
  "nbformat_minor": 0,
  "metadata": {
    "colab": {
      "name": "Seattle Airbnb Open Data.ipynb",
      "provenance": [],
      "collapsed_sections": [],
      "mount_file_id": "1tFj_sFj_KIPZbZ1asX_T_3wJeRQ4RNs8",
      "authorship_tag": "ABX9TyOb4uFEDbKC507V4aKvifcU",
      "include_colab_link": true
    },
    "kernelspec": {
      "name": "python3",
      "display_name": "Python 3"
    },
    "language_info": {
      "name": "python"
    }
  },
  "cells": [
    {
      "cell_type": "markdown",
      "metadata": {
        "id": "view-in-github",
        "colab_type": "text"
      },
      "source": [
        "<a href=\"https://colab.research.google.com/github/marcoshr/Seattle_Airbnb_Open_Data/blob/master/Seattle_Airbnb_Open_Data.ipynb\" target=\"_parent\"><img src=\"https://colab.research.google.com/assets/colab-badge.svg\" alt=\"Open In Colab\"/></a>"
      ]
    },
    {
      "cell_type": "markdown",
      "metadata": {
        "id": "306977b4"
      },
      "source": [
        "# **Seattle Airbnb Open Data - Data Science Project**\n",
        "\n",
        "This notebook is part of the Data Science Nanodegree program at Udacity.\n",
        "\n",
        "This notebook is meant to serve as a template for future data mining processes."
      ]
    },
    {
      "cell_type": "markdown",
      "metadata": {
        "id": "MeoCalEblw9R"
      },
      "source": [
        "## **Preliminaries**"
      ]
    },
    {
      "cell_type": "markdown",
      "metadata": {
        "id": "bk5TII8tXTfP"
      },
      "source": [
        "### Mount Google Drive"
      ]
    },
    {
      "cell_type": "code",
      "metadata": {
        "id": "YWrBhSMVmFsB",
        "colab": {
          "base_uri": "https://localhost:8080/"
        },
        "outputId": "a806dd20-6804-4e7a-99de-7a3160d5a5cd"
      },
      "source": [
        "from google.colab import drive\n",
        "drive.mount(\"/content/drive\") #, force_remount=True)\n",
        "\n",
        "!pwd\n",
        "!which python\n",
        "!python --version"
      ],
      "execution_count": null,
      "outputs": [
        {
          "output_type": "stream",
          "text": [
            "Drive already mounted at /content/drive; to attempt to forcibly remount, call drive.mount(\"/content/drive\", force_remount=True).\n",
            "/content\n",
            "/usr/local/bin/python\n",
            "Python 3.7.11\n"
          ],
          "name": "stdout"
        }
      ]
    },
    {
      "cell_type": "markdown",
      "metadata": {
        "id": "skdt_DawXF-Z"
      },
      "source": [
        "### Business Questions\n",
        "\n",
        "Questions related to business or real-world applications of how the data could be used:\n",
        "- How well is Airbnb collecting its data?\n",
        "- Which variables in the dataset are highly related to each other?\n",
        "- How well can we predict the price of homestays?"
      ]
    },
    {
      "cell_type": "markdown",
      "metadata": {
        "id": "w2mhtoEmCdWX"
      },
      "source": [
        "### Libraries"
      ]
    },
    {
      "cell_type": "code",
      "metadata": {
        "id": "BgBzWsUQCZD5"
      },
      "source": [
        "import sys\n",
        "import random\n",
        "import re\n",
        "\n",
        "import numpy as np\n",
        "import pandas as pd\n",
        "\n",
        "import matplotlib.pyplot as plt\n",
        "import seaborn as sns\n",
        "\n",
        "from sklearn.model_selection import train_test_split\n",
        "from sklearn.model_selection import cross_val_score\n",
        "from sklearn.linear_model import LinearRegression\n",
        "from sklearn.ensemble import RandomForestClassifier\n",
        "from sklearn.metrics import r2_score, mean_squared_error\n",
        "\n",
        "from xgboost import XGBRegressor"
      ],
      "execution_count": null,
      "outputs": []
    },
    {
      "cell_type": "markdown",
      "metadata": {
        "id": "RXCfpen16GoR"
      },
      "source": [
        "## **Data Exploration**"
      ]
    },
    {
      "cell_type": "markdown",
      "metadata": {
        "id": "SLtjGfL2ood3"
      },
      "source": [
        "### Dataset Description"
      ]
    },
    {
      "cell_type": "markdown",
      "metadata": {
        "id": "lcxCLycyTJuR"
      },
      "source": [
        "\n",
        "Data extracted from https://www.kaggle.com/airbnb/seattle/data\n",
        "  \n",
        "Context\n",
        "\n",
        "Since 2008, guests and hosts have used Airbnb to travel in a more unique, personalized way. As part of the Airbnb Inside initiative, this dataset describes the listing activity of homestays in Seattle, WA.\n",
        "  \n",
        "Content\n",
        "\n",
        "The following Airbnb activity is included in this Seattle dataset:\n",
        "\n",
        "- Listings, including full descriptions and average review score\n",
        "- Reviews, including unique id for each reviewer and detailed comments\n",
        "- Calendar, including listing id and the price and availability for that day\n",
        "  \n",
        "Inspiration\n",
        "\n",
        "- Can you describe the vibe of each Seattle neighborhood using listing descriptions?\n",
        "- What are the busiest times of the year to visit Seattle? By how much do prices spike?\n",
        "- Is there a general upward trend of both new Airbnb listings and total Airbnb visitors to Seattle?\n",
        "\n",
        "For more ideas, visualizations of all Seattle datasets can be found [here](http://insideairbnb.com/seattle/).\n",
        "  \n",
        "Acknowledgement\n",
        "\n",
        "This dataset is part of Airbnb Inside, and the original source can be found [here](http://insideairbnb.com/get-the-data.html)."
      ]
    },
    {
      "cell_type": "markdown",
      "metadata": {
        "id": "tSblcac-otV9"
      },
      "source": [
        "### Reading data"
      ]
    },
    {
      "cell_type": "code",
      "metadata": {
        "scrolled": true,
        "id": "30dc3c5e"
      },
      "source": [
        "# df_calendar = pd.read_csv('/content/drive/MyDrive/3. Nanodegree/Data/calendar.csv')\n",
        "# df_reviews = pd.read_csv('/content/drive/MyDrive/3. Nanodegree/Data/reviews.csv')\n",
        "\n",
        "df = pd.read_csv('/content/drive/MyDrive/7. Proyectos/Data Science/Nanodegree - Udacity/Data/listings.csv')"
      ],
      "execution_count": null,
      "outputs": []
    },
    {
      "cell_type": "code",
      "metadata": {
        "id": "6cb73613"
      },
      "source": [
        "# # df_calendar\n",
        "# display(df_calendar.columns)\n",
        "# display(df_calendar.shape)\n",
        "# display(df_calendar.head())"
      ],
      "execution_count": null,
      "outputs": []
    },
    {
      "cell_type": "code",
      "metadata": {
        "id": "8a3ca33a"
      },
      "source": [
        "# # df_reviews\n",
        "# display(df_reviews.columns)\n",
        "# display(df_reviews.shape)\n",
        "# display(df_reviews.head())"
      ],
      "execution_count": null,
      "outputs": []
    },
    {
      "cell_type": "code",
      "metadata": {
        "id": "vQfggv5o4i-F",
        "colab": {
          "base_uri": "https://localhost:8080/"
        },
        "outputId": "8858e3d7-1e31-4a8a-f4eb-546743c1e697"
      },
      "source": [
        "df.shape"
      ],
      "execution_count": null,
      "outputs": [
        {
          "output_type": "execute_result",
          "data": {
            "text/plain": [
              "(3818, 92)"
            ]
          },
          "metadata": {
            "tags": []
          },
          "execution_count": 6
        }
      ]
    },
    {
      "cell_type": "code",
      "metadata": {
        "id": "tJ-FZmR-4X6Q",
        "colab": {
          "base_uri": "https://localhost:8080/",
          "height": 317
        },
        "outputId": "7c88fbb2-638d-46d0-c451-fc5c9a933338"
      },
      "source": [
        "df.describe()"
      ],
      "execution_count": null,
      "outputs": [
        {
          "output_type": "execute_result",
          "data": {
            "text/html": [
              "<div>\n",
              "<style scoped>\n",
              "    .dataframe tbody tr th:only-of-type {\n",
              "        vertical-align: middle;\n",
              "    }\n",
              "\n",
              "    .dataframe tbody tr th {\n",
              "        vertical-align: top;\n",
              "    }\n",
              "\n",
              "    .dataframe thead th {\n",
              "        text-align: right;\n",
              "    }\n",
              "</style>\n",
              "<table border=\"1\" class=\"dataframe\">\n",
              "  <thead>\n",
              "    <tr style=\"text-align: right;\">\n",
              "      <th></th>\n",
              "      <th>id</th>\n",
              "      <th>scrape_id</th>\n",
              "      <th>host_id</th>\n",
              "      <th>host_listings_count</th>\n",
              "      <th>host_total_listings_count</th>\n",
              "      <th>latitude</th>\n",
              "      <th>longitude</th>\n",
              "      <th>accommodates</th>\n",
              "      <th>bathrooms</th>\n",
              "      <th>bedrooms</th>\n",
              "      <th>beds</th>\n",
              "      <th>square_feet</th>\n",
              "      <th>guests_included</th>\n",
              "      <th>minimum_nights</th>\n",
              "      <th>maximum_nights</th>\n",
              "      <th>availability_30</th>\n",
              "      <th>availability_60</th>\n",
              "      <th>availability_90</th>\n",
              "      <th>availability_365</th>\n",
              "      <th>number_of_reviews</th>\n",
              "      <th>review_scores_rating</th>\n",
              "      <th>review_scores_accuracy</th>\n",
              "      <th>review_scores_cleanliness</th>\n",
              "      <th>review_scores_checkin</th>\n",
              "      <th>review_scores_communication</th>\n",
              "      <th>review_scores_location</th>\n",
              "      <th>review_scores_value</th>\n",
              "      <th>license</th>\n",
              "      <th>calculated_host_listings_count</th>\n",
              "      <th>reviews_per_month</th>\n",
              "    </tr>\n",
              "  </thead>\n",
              "  <tbody>\n",
              "    <tr>\n",
              "      <th>count</th>\n",
              "      <td>3.818000e+03</td>\n",
              "      <td>3.818000e+03</td>\n",
              "      <td>3.818000e+03</td>\n",
              "      <td>3816.000000</td>\n",
              "      <td>3816.000000</td>\n",
              "      <td>3818.000000</td>\n",
              "      <td>3818.000000</td>\n",
              "      <td>3818.000000</td>\n",
              "      <td>3802.000000</td>\n",
              "      <td>3812.000000</td>\n",
              "      <td>3817.000000</td>\n",
              "      <td>97.000000</td>\n",
              "      <td>3818.000000</td>\n",
              "      <td>3818.000000</td>\n",
              "      <td>3818.000000</td>\n",
              "      <td>3818.000000</td>\n",
              "      <td>3818.000000</td>\n",
              "      <td>3818.000000</td>\n",
              "      <td>3818.000000</td>\n",
              "      <td>3818.000000</td>\n",
              "      <td>3171.000000</td>\n",
              "      <td>3160.000000</td>\n",
              "      <td>3165.000000</td>\n",
              "      <td>3160.000000</td>\n",
              "      <td>3167.000000</td>\n",
              "      <td>3163.000000</td>\n",
              "      <td>3162.000000</td>\n",
              "      <td>0.0</td>\n",
              "      <td>3818.000000</td>\n",
              "      <td>3191.000000</td>\n",
              "    </tr>\n",
              "    <tr>\n",
              "      <th>mean</th>\n",
              "      <td>5.550111e+06</td>\n",
              "      <td>2.016010e+13</td>\n",
              "      <td>1.578556e+07</td>\n",
              "      <td>7.157757</td>\n",
              "      <td>7.157757</td>\n",
              "      <td>47.628961</td>\n",
              "      <td>-122.333103</td>\n",
              "      <td>3.349398</td>\n",
              "      <td>1.259469</td>\n",
              "      <td>1.307712</td>\n",
              "      <td>1.735394</td>\n",
              "      <td>854.618557</td>\n",
              "      <td>1.672603</td>\n",
              "      <td>2.369303</td>\n",
              "      <td>780.447617</td>\n",
              "      <td>16.786276</td>\n",
              "      <td>36.814825</td>\n",
              "      <td>58.082504</td>\n",
              "      <td>244.772656</td>\n",
              "      <td>22.223415</td>\n",
              "      <td>94.539262</td>\n",
              "      <td>9.636392</td>\n",
              "      <td>9.556398</td>\n",
              "      <td>9.786709</td>\n",
              "      <td>9.809599</td>\n",
              "      <td>9.608916</td>\n",
              "      <td>9.452245</td>\n",
              "      <td>NaN</td>\n",
              "      <td>2.946307</td>\n",
              "      <td>2.078919</td>\n",
              "    </tr>\n",
              "    <tr>\n",
              "      <th>std</th>\n",
              "      <td>2.962660e+06</td>\n",
              "      <td>0.000000e+00</td>\n",
              "      <td>1.458382e+07</td>\n",
              "      <td>28.628149</td>\n",
              "      <td>28.628149</td>\n",
              "      <td>0.043052</td>\n",
              "      <td>0.031745</td>\n",
              "      <td>1.977599</td>\n",
              "      <td>0.590369</td>\n",
              "      <td>0.883395</td>\n",
              "      <td>1.139480</td>\n",
              "      <td>671.404893</td>\n",
              "      <td>1.311040</td>\n",
              "      <td>16.305902</td>\n",
              "      <td>1683.589007</td>\n",
              "      <td>12.173637</td>\n",
              "      <td>23.337541</td>\n",
              "      <td>34.063845</td>\n",
              "      <td>126.772526</td>\n",
              "      <td>37.730892</td>\n",
              "      <td>6.606083</td>\n",
              "      <td>0.698031</td>\n",
              "      <td>0.797274</td>\n",
              "      <td>0.595499</td>\n",
              "      <td>0.568211</td>\n",
              "      <td>0.629053</td>\n",
              "      <td>0.750259</td>\n",
              "      <td>NaN</td>\n",
              "      <td>5.893029</td>\n",
              "      <td>1.822348</td>\n",
              "    </tr>\n",
              "    <tr>\n",
              "      <th>min</th>\n",
              "      <td>3.335000e+03</td>\n",
              "      <td>2.016010e+13</td>\n",
              "      <td>4.193000e+03</td>\n",
              "      <td>1.000000</td>\n",
              "      <td>1.000000</td>\n",
              "      <td>47.505088</td>\n",
              "      <td>-122.417219</td>\n",
              "      <td>1.000000</td>\n",
              "      <td>0.000000</td>\n",
              "      <td>0.000000</td>\n",
              "      <td>1.000000</td>\n",
              "      <td>0.000000</td>\n",
              "      <td>0.000000</td>\n",
              "      <td>1.000000</td>\n",
              "      <td>1.000000</td>\n",
              "      <td>0.000000</td>\n",
              "      <td>0.000000</td>\n",
              "      <td>0.000000</td>\n",
              "      <td>0.000000</td>\n",
              "      <td>0.000000</td>\n",
              "      <td>20.000000</td>\n",
              "      <td>2.000000</td>\n",
              "      <td>3.000000</td>\n",
              "      <td>2.000000</td>\n",
              "      <td>2.000000</td>\n",
              "      <td>4.000000</td>\n",
              "      <td>2.000000</td>\n",
              "      <td>NaN</td>\n",
              "      <td>1.000000</td>\n",
              "      <td>0.020000</td>\n",
              "    </tr>\n",
              "    <tr>\n",
              "      <th>25%</th>\n",
              "      <td>3.258256e+06</td>\n",
              "      <td>2.016010e+13</td>\n",
              "      <td>3.275204e+06</td>\n",
              "      <td>1.000000</td>\n",
              "      <td>1.000000</td>\n",
              "      <td>47.609418</td>\n",
              "      <td>-122.354320</td>\n",
              "      <td>2.000000</td>\n",
              "      <td>1.000000</td>\n",
              "      <td>1.000000</td>\n",
              "      <td>1.000000</td>\n",
              "      <td>420.000000</td>\n",
              "      <td>1.000000</td>\n",
              "      <td>1.000000</td>\n",
              "      <td>60.000000</td>\n",
              "      <td>2.000000</td>\n",
              "      <td>13.000000</td>\n",
              "      <td>28.000000</td>\n",
              "      <td>124.000000</td>\n",
              "      <td>2.000000</td>\n",
              "      <td>93.000000</td>\n",
              "      <td>9.000000</td>\n",
              "      <td>9.000000</td>\n",
              "      <td>10.000000</td>\n",
              "      <td>10.000000</td>\n",
              "      <td>9.000000</td>\n",
              "      <td>9.000000</td>\n",
              "      <td>NaN</td>\n",
              "      <td>1.000000</td>\n",
              "      <td>0.695000</td>\n",
              "    </tr>\n",
              "    <tr>\n",
              "      <th>50%</th>\n",
              "      <td>6.118244e+06</td>\n",
              "      <td>2.016010e+13</td>\n",
              "      <td>1.055814e+07</td>\n",
              "      <td>1.000000</td>\n",
              "      <td>1.000000</td>\n",
              "      <td>47.623601</td>\n",
              "      <td>-122.328874</td>\n",
              "      <td>3.000000</td>\n",
              "      <td>1.000000</td>\n",
              "      <td>1.000000</td>\n",
              "      <td>1.000000</td>\n",
              "      <td>750.000000</td>\n",
              "      <td>1.000000</td>\n",
              "      <td>2.000000</td>\n",
              "      <td>1125.000000</td>\n",
              "      <td>20.000000</td>\n",
              "      <td>46.000000</td>\n",
              "      <td>73.000000</td>\n",
              "      <td>308.000000</td>\n",
              "      <td>9.000000</td>\n",
              "      <td>96.000000</td>\n",
              "      <td>10.000000</td>\n",
              "      <td>10.000000</td>\n",
              "      <td>10.000000</td>\n",
              "      <td>10.000000</td>\n",
              "      <td>10.000000</td>\n",
              "      <td>10.000000</td>\n",
              "      <td>NaN</td>\n",
              "      <td>1.000000</td>\n",
              "      <td>1.540000</td>\n",
              "    </tr>\n",
              "    <tr>\n",
              "      <th>75%</th>\n",
              "      <td>8.035127e+06</td>\n",
              "      <td>2.016010e+13</td>\n",
              "      <td>2.590309e+07</td>\n",
              "      <td>3.000000</td>\n",
              "      <td>3.000000</td>\n",
              "      <td>47.662694</td>\n",
              "      <td>-122.310800</td>\n",
              "      <td>4.000000</td>\n",
              "      <td>1.000000</td>\n",
              "      <td>2.000000</td>\n",
              "      <td>2.000000</td>\n",
              "      <td>1200.000000</td>\n",
              "      <td>2.000000</td>\n",
              "      <td>2.000000</td>\n",
              "      <td>1125.000000</td>\n",
              "      <td>30.000000</td>\n",
              "      <td>59.000000</td>\n",
              "      <td>89.000000</td>\n",
              "      <td>360.000000</td>\n",
              "      <td>26.000000</td>\n",
              "      <td>99.000000</td>\n",
              "      <td>10.000000</td>\n",
              "      <td>10.000000</td>\n",
              "      <td>10.000000</td>\n",
              "      <td>10.000000</td>\n",
              "      <td>10.000000</td>\n",
              "      <td>10.000000</td>\n",
              "      <td>NaN</td>\n",
              "      <td>2.000000</td>\n",
              "      <td>3.000000</td>\n",
              "    </tr>\n",
              "    <tr>\n",
              "      <th>max</th>\n",
              "      <td>1.034016e+07</td>\n",
              "      <td>2.016010e+13</td>\n",
              "      <td>5.320861e+07</td>\n",
              "      <td>502.000000</td>\n",
              "      <td>502.000000</td>\n",
              "      <td>47.733358</td>\n",
              "      <td>-122.240607</td>\n",
              "      <td>16.000000</td>\n",
              "      <td>8.000000</td>\n",
              "      <td>7.000000</td>\n",
              "      <td>15.000000</td>\n",
              "      <td>3000.000000</td>\n",
              "      <td>15.000000</td>\n",
              "      <td>1000.000000</td>\n",
              "      <td>100000.000000</td>\n",
              "      <td>30.000000</td>\n",
              "      <td>60.000000</td>\n",
              "      <td>90.000000</td>\n",
              "      <td>365.000000</td>\n",
              "      <td>474.000000</td>\n",
              "      <td>100.000000</td>\n",
              "      <td>10.000000</td>\n",
              "      <td>10.000000</td>\n",
              "      <td>10.000000</td>\n",
              "      <td>10.000000</td>\n",
              "      <td>10.000000</td>\n",
              "      <td>10.000000</td>\n",
              "      <td>NaN</td>\n",
              "      <td>37.000000</td>\n",
              "      <td>12.150000</td>\n",
              "    </tr>\n",
              "  </tbody>\n",
              "</table>\n",
              "</div>"
            ],
            "text/plain": [
              "                 id  ...  reviews_per_month\n",
              "count  3.818000e+03  ...        3191.000000\n",
              "mean   5.550111e+06  ...           2.078919\n",
              "std    2.962660e+06  ...           1.822348\n",
              "min    3.335000e+03  ...           0.020000\n",
              "25%    3.258256e+06  ...           0.695000\n",
              "50%    6.118244e+06  ...           1.540000\n",
              "75%    8.035127e+06  ...           3.000000\n",
              "max    1.034016e+07  ...          12.150000\n",
              "\n",
              "[8 rows x 30 columns]"
            ]
          },
          "metadata": {
            "tags": []
          },
          "execution_count": 7
        }
      ]
    },
    {
      "cell_type": "code",
      "metadata": {
        "id": "a484dc94",
        "colab": {
          "base_uri": "https://localhost:8080/"
        },
        "outputId": "2dd4ae07-c75d-4c93-99f9-91fbc16fd9fd"
      },
      "source": [
        "print(len(df.columns))\n",
        "df.columns"
      ],
      "execution_count": null,
      "outputs": [
        {
          "output_type": "stream",
          "text": [
            "92\n"
          ],
          "name": "stdout"
        },
        {
          "output_type": "execute_result",
          "data": {
            "text/plain": [
              "Index(['id', 'listing_url', 'scrape_id', 'last_scraped', 'name', 'summary',\n",
              "       'space', 'description', 'experiences_offered', 'neighborhood_overview',\n",
              "       'notes', 'transit', 'thumbnail_url', 'medium_url', 'picture_url',\n",
              "       'xl_picture_url', 'host_id', 'host_url', 'host_name', 'host_since',\n",
              "       'host_location', 'host_about', 'host_response_time',\n",
              "       'host_response_rate', 'host_acceptance_rate', 'host_is_superhost',\n",
              "       'host_thumbnail_url', 'host_picture_url', 'host_neighbourhood',\n",
              "       'host_listings_count', 'host_total_listings_count',\n",
              "       'host_verifications', 'host_has_profile_pic', 'host_identity_verified',\n",
              "       'street', 'neighbourhood', 'neighbourhood_cleansed',\n",
              "       'neighbourhood_group_cleansed', 'city', 'state', 'zipcode', 'market',\n",
              "       'smart_location', 'country_code', 'country', 'latitude', 'longitude',\n",
              "       'is_location_exact', 'property_type', 'room_type', 'accommodates',\n",
              "       'bathrooms', 'bedrooms', 'beds', 'bed_type', 'amenities', 'square_feet',\n",
              "       'price', 'weekly_price', 'monthly_price', 'security_deposit',\n",
              "       'cleaning_fee', 'guests_included', 'extra_people', 'minimum_nights',\n",
              "       'maximum_nights', 'calendar_updated', 'has_availability',\n",
              "       'availability_30', 'availability_60', 'availability_90',\n",
              "       'availability_365', 'calendar_last_scraped', 'number_of_reviews',\n",
              "       'first_review', 'last_review', 'review_scores_rating',\n",
              "       'review_scores_accuracy', 'review_scores_cleanliness',\n",
              "       'review_scores_checkin', 'review_scores_communication',\n",
              "       'review_scores_location', 'review_scores_value', 'requires_license',\n",
              "       'license', 'jurisdiction_names', 'instant_bookable',\n",
              "       'cancellation_policy', 'require_guest_profile_picture',\n",
              "       'require_guest_phone_verification', 'calculated_host_listings_count',\n",
              "       'reviews_per_month'],\n",
              "      dtype='object')"
            ]
          },
          "metadata": {
            "tags": []
          },
          "execution_count": 8
        }
      ]
    },
    {
      "cell_type": "code",
      "metadata": {
        "id": "aSfxAaz94sAd",
        "colab": {
          "base_uri": "https://localhost:8080/",
          "height": 813
        },
        "outputId": "eb1f1254-dfe6-401d-be46-6b213e932660"
      },
      "source": [
        "df.head()"
      ],
      "execution_count": null,
      "outputs": [
        {
          "output_type": "execute_result",
          "data": {
            "text/html": [
              "<div>\n",
              "<style scoped>\n",
              "    .dataframe tbody tr th:only-of-type {\n",
              "        vertical-align: middle;\n",
              "    }\n",
              "\n",
              "    .dataframe tbody tr th {\n",
              "        vertical-align: top;\n",
              "    }\n",
              "\n",
              "    .dataframe thead th {\n",
              "        text-align: right;\n",
              "    }\n",
              "</style>\n",
              "<table border=\"1\" class=\"dataframe\">\n",
              "  <thead>\n",
              "    <tr style=\"text-align: right;\">\n",
              "      <th></th>\n",
              "      <th>id</th>\n",
              "      <th>listing_url</th>\n",
              "      <th>scrape_id</th>\n",
              "      <th>last_scraped</th>\n",
              "      <th>name</th>\n",
              "      <th>summary</th>\n",
              "      <th>space</th>\n",
              "      <th>description</th>\n",
              "      <th>experiences_offered</th>\n",
              "      <th>neighborhood_overview</th>\n",
              "      <th>notes</th>\n",
              "      <th>transit</th>\n",
              "      <th>thumbnail_url</th>\n",
              "      <th>medium_url</th>\n",
              "      <th>picture_url</th>\n",
              "      <th>xl_picture_url</th>\n",
              "      <th>host_id</th>\n",
              "      <th>host_url</th>\n",
              "      <th>host_name</th>\n",
              "      <th>host_since</th>\n",
              "      <th>host_location</th>\n",
              "      <th>host_about</th>\n",
              "      <th>host_response_time</th>\n",
              "      <th>host_response_rate</th>\n",
              "      <th>host_acceptance_rate</th>\n",
              "      <th>host_is_superhost</th>\n",
              "      <th>host_thumbnail_url</th>\n",
              "      <th>host_picture_url</th>\n",
              "      <th>host_neighbourhood</th>\n",
              "      <th>host_listings_count</th>\n",
              "      <th>host_total_listings_count</th>\n",
              "      <th>host_verifications</th>\n",
              "      <th>host_has_profile_pic</th>\n",
              "      <th>host_identity_verified</th>\n",
              "      <th>street</th>\n",
              "      <th>neighbourhood</th>\n",
              "      <th>neighbourhood_cleansed</th>\n",
              "      <th>neighbourhood_group_cleansed</th>\n",
              "      <th>city</th>\n",
              "      <th>state</th>\n",
              "      <th>...</th>\n",
              "      <th>bedrooms</th>\n",
              "      <th>beds</th>\n",
              "      <th>bed_type</th>\n",
              "      <th>amenities</th>\n",
              "      <th>square_feet</th>\n",
              "      <th>price</th>\n",
              "      <th>weekly_price</th>\n",
              "      <th>monthly_price</th>\n",
              "      <th>security_deposit</th>\n",
              "      <th>cleaning_fee</th>\n",
              "      <th>guests_included</th>\n",
              "      <th>extra_people</th>\n",
              "      <th>minimum_nights</th>\n",
              "      <th>maximum_nights</th>\n",
              "      <th>calendar_updated</th>\n",
              "      <th>has_availability</th>\n",
              "      <th>availability_30</th>\n",
              "      <th>availability_60</th>\n",
              "      <th>availability_90</th>\n",
              "      <th>availability_365</th>\n",
              "      <th>calendar_last_scraped</th>\n",
              "      <th>number_of_reviews</th>\n",
              "      <th>first_review</th>\n",
              "      <th>last_review</th>\n",
              "      <th>review_scores_rating</th>\n",
              "      <th>review_scores_accuracy</th>\n",
              "      <th>review_scores_cleanliness</th>\n",
              "      <th>review_scores_checkin</th>\n",
              "      <th>review_scores_communication</th>\n",
              "      <th>review_scores_location</th>\n",
              "      <th>review_scores_value</th>\n",
              "      <th>requires_license</th>\n",
              "      <th>license</th>\n",
              "      <th>jurisdiction_names</th>\n",
              "      <th>instant_bookable</th>\n",
              "      <th>cancellation_policy</th>\n",
              "      <th>require_guest_profile_picture</th>\n",
              "      <th>require_guest_phone_verification</th>\n",
              "      <th>calculated_host_listings_count</th>\n",
              "      <th>reviews_per_month</th>\n",
              "    </tr>\n",
              "  </thead>\n",
              "  <tbody>\n",
              "    <tr>\n",
              "      <th>0</th>\n",
              "      <td>241032</td>\n",
              "      <td>https://www.airbnb.com/rooms/241032</td>\n",
              "      <td>20160104002432</td>\n",
              "      <td>2016-01-04</td>\n",
              "      <td>Stylish Queen Anne Apartment</td>\n",
              "      <td>NaN</td>\n",
              "      <td>Make your self at home in this charming one-be...</td>\n",
              "      <td>Make your self at home in this charming one-be...</td>\n",
              "      <td>none</td>\n",
              "      <td>NaN</td>\n",
              "      <td>NaN</td>\n",
              "      <td>NaN</td>\n",
              "      <td>NaN</td>\n",
              "      <td>NaN</td>\n",
              "      <td>https://a1.muscache.com/ac/pictures/67560560/c...</td>\n",
              "      <td>NaN</td>\n",
              "      <td>956883</td>\n",
              "      <td>https://www.airbnb.com/users/show/956883</td>\n",
              "      <td>Maija</td>\n",
              "      <td>2011-08-11</td>\n",
              "      <td>Seattle, Washington, United States</td>\n",
              "      <td>I am an artist, interior designer, and run a s...</td>\n",
              "      <td>within a few hours</td>\n",
              "      <td>96%</td>\n",
              "      <td>100%</td>\n",
              "      <td>f</td>\n",
              "      <td>https://a0.muscache.com/ac/users/956883/profil...</td>\n",
              "      <td>https://a0.muscache.com/ac/users/956883/profil...</td>\n",
              "      <td>Queen Anne</td>\n",
              "      <td>3.0</td>\n",
              "      <td>3.0</td>\n",
              "      <td>['email', 'phone', 'reviews', 'kba']</td>\n",
              "      <td>t</td>\n",
              "      <td>t</td>\n",
              "      <td>Gilman Dr W, Seattle, WA 98119, United States</td>\n",
              "      <td>Queen Anne</td>\n",
              "      <td>West Queen Anne</td>\n",
              "      <td>Queen Anne</td>\n",
              "      <td>Seattle</td>\n",
              "      <td>WA</td>\n",
              "      <td>...</td>\n",
              "      <td>1.0</td>\n",
              "      <td>1.0</td>\n",
              "      <td>Real Bed</td>\n",
              "      <td>{TV,\"Cable TV\",Internet,\"Wireless Internet\",\"A...</td>\n",
              "      <td>NaN</td>\n",
              "      <td>$85.00</td>\n",
              "      <td>NaN</td>\n",
              "      <td>NaN</td>\n",
              "      <td>NaN</td>\n",
              "      <td>NaN</td>\n",
              "      <td>2</td>\n",
              "      <td>$5.00</td>\n",
              "      <td>1</td>\n",
              "      <td>365</td>\n",
              "      <td>4 weeks ago</td>\n",
              "      <td>t</td>\n",
              "      <td>14</td>\n",
              "      <td>41</td>\n",
              "      <td>71</td>\n",
              "      <td>346</td>\n",
              "      <td>2016-01-04</td>\n",
              "      <td>207</td>\n",
              "      <td>2011-11-01</td>\n",
              "      <td>2016-01-02</td>\n",
              "      <td>95.0</td>\n",
              "      <td>10.0</td>\n",
              "      <td>10.0</td>\n",
              "      <td>10.0</td>\n",
              "      <td>10.0</td>\n",
              "      <td>9.0</td>\n",
              "      <td>10.0</td>\n",
              "      <td>f</td>\n",
              "      <td>NaN</td>\n",
              "      <td>WASHINGTON</td>\n",
              "      <td>f</td>\n",
              "      <td>moderate</td>\n",
              "      <td>f</td>\n",
              "      <td>f</td>\n",
              "      <td>2</td>\n",
              "      <td>4.07</td>\n",
              "    </tr>\n",
              "    <tr>\n",
              "      <th>1</th>\n",
              "      <td>953595</td>\n",
              "      <td>https://www.airbnb.com/rooms/953595</td>\n",
              "      <td>20160104002432</td>\n",
              "      <td>2016-01-04</td>\n",
              "      <td>Bright &amp; Airy Queen Anne Apartment</td>\n",
              "      <td>Chemically sensitive? We've removed the irrita...</td>\n",
              "      <td>Beautiful, hypoallergenic apartment in an extr...</td>\n",
              "      <td>Chemically sensitive? We've removed the irrita...</td>\n",
              "      <td>none</td>\n",
              "      <td>Queen Anne is a wonderful, truly functional vi...</td>\n",
              "      <td>What's up with the free pillows?  Our home was...</td>\n",
              "      <td>Convenient bus stops are just down the block, ...</td>\n",
              "      <td>https://a0.muscache.com/ac/pictures/14409893/f...</td>\n",
              "      <td>https://a0.muscache.com/im/pictures/14409893/f...</td>\n",
              "      <td>https://a0.muscache.com/ac/pictures/14409893/f...</td>\n",
              "      <td>https://a0.muscache.com/ac/pictures/14409893/f...</td>\n",
              "      <td>5177328</td>\n",
              "      <td>https://www.airbnb.com/users/show/5177328</td>\n",
              "      <td>Andrea</td>\n",
              "      <td>2013-02-21</td>\n",
              "      <td>Seattle, Washington, United States</td>\n",
              "      <td>Living east coast/left coast/overseas.  Time i...</td>\n",
              "      <td>within an hour</td>\n",
              "      <td>98%</td>\n",
              "      <td>100%</td>\n",
              "      <td>t</td>\n",
              "      <td>https://a0.muscache.com/ac/users/5177328/profi...</td>\n",
              "      <td>https://a0.muscache.com/ac/users/5177328/profi...</td>\n",
              "      <td>Queen Anne</td>\n",
              "      <td>6.0</td>\n",
              "      <td>6.0</td>\n",
              "      <td>['email', 'phone', 'facebook', 'linkedin', 're...</td>\n",
              "      <td>t</td>\n",
              "      <td>t</td>\n",
              "      <td>7th Avenue West, Seattle, WA 98119, United States</td>\n",
              "      <td>Queen Anne</td>\n",
              "      <td>West Queen Anne</td>\n",
              "      <td>Queen Anne</td>\n",
              "      <td>Seattle</td>\n",
              "      <td>WA</td>\n",
              "      <td>...</td>\n",
              "      <td>1.0</td>\n",
              "      <td>1.0</td>\n",
              "      <td>Real Bed</td>\n",
              "      <td>{TV,Internet,\"Wireless Internet\",Kitchen,\"Free...</td>\n",
              "      <td>NaN</td>\n",
              "      <td>$150.00</td>\n",
              "      <td>$1,000.00</td>\n",
              "      <td>$3,000.00</td>\n",
              "      <td>$100.00</td>\n",
              "      <td>$40.00</td>\n",
              "      <td>1</td>\n",
              "      <td>$0.00</td>\n",
              "      <td>2</td>\n",
              "      <td>90</td>\n",
              "      <td>today</td>\n",
              "      <td>t</td>\n",
              "      <td>13</td>\n",
              "      <td>13</td>\n",
              "      <td>16</td>\n",
              "      <td>291</td>\n",
              "      <td>2016-01-04</td>\n",
              "      <td>43</td>\n",
              "      <td>2013-08-19</td>\n",
              "      <td>2015-12-29</td>\n",
              "      <td>96.0</td>\n",
              "      <td>10.0</td>\n",
              "      <td>10.0</td>\n",
              "      <td>10.0</td>\n",
              "      <td>10.0</td>\n",
              "      <td>10.0</td>\n",
              "      <td>10.0</td>\n",
              "      <td>f</td>\n",
              "      <td>NaN</td>\n",
              "      <td>WASHINGTON</td>\n",
              "      <td>f</td>\n",
              "      <td>strict</td>\n",
              "      <td>t</td>\n",
              "      <td>t</td>\n",
              "      <td>6</td>\n",
              "      <td>1.48</td>\n",
              "    </tr>\n",
              "    <tr>\n",
              "      <th>2</th>\n",
              "      <td>3308979</td>\n",
              "      <td>https://www.airbnb.com/rooms/3308979</td>\n",
              "      <td>20160104002432</td>\n",
              "      <td>2016-01-04</td>\n",
              "      <td>New Modern House-Amazing water view</td>\n",
              "      <td>New modern house built in 2013.  Spectacular s...</td>\n",
              "      <td>Our house is modern, light and fresh with a wa...</td>\n",
              "      <td>New modern house built in 2013.  Spectacular s...</td>\n",
              "      <td>none</td>\n",
              "      <td>Upper Queen Anne is a charming neighborhood fu...</td>\n",
              "      <td>Our house is located just 5 short blocks to To...</td>\n",
              "      <td>A bus stop is just 2 blocks away.   Easy bus a...</td>\n",
              "      <td>NaN</td>\n",
              "      <td>NaN</td>\n",
              "      <td>https://a2.muscache.com/ac/pictures/b4324e0f-a...</td>\n",
              "      <td>NaN</td>\n",
              "      <td>16708587</td>\n",
              "      <td>https://www.airbnb.com/users/show/16708587</td>\n",
              "      <td>Jill</td>\n",
              "      <td>2014-06-12</td>\n",
              "      <td>Seattle, Washington, United States</td>\n",
              "      <td>i love living in Seattle.  i grew up in the mi...</td>\n",
              "      <td>within a few hours</td>\n",
              "      <td>67%</td>\n",
              "      <td>100%</td>\n",
              "      <td>f</td>\n",
              "      <td>https://a1.muscache.com/ac/users/16708587/prof...</td>\n",
              "      <td>https://a1.muscache.com/ac/users/16708587/prof...</td>\n",
              "      <td>Queen Anne</td>\n",
              "      <td>2.0</td>\n",
              "      <td>2.0</td>\n",
              "      <td>['email', 'phone', 'google', 'reviews', 'jumio']</td>\n",
              "      <td>t</td>\n",
              "      <td>t</td>\n",
              "      <td>West Lee Street, Seattle, WA 98119, United States</td>\n",
              "      <td>Queen Anne</td>\n",
              "      <td>West Queen Anne</td>\n",
              "      <td>Queen Anne</td>\n",
              "      <td>Seattle</td>\n",
              "      <td>WA</td>\n",
              "      <td>...</td>\n",
              "      <td>5.0</td>\n",
              "      <td>7.0</td>\n",
              "      <td>Real Bed</td>\n",
              "      <td>{TV,\"Cable TV\",Internet,\"Wireless Internet\",\"A...</td>\n",
              "      <td>NaN</td>\n",
              "      <td>$975.00</td>\n",
              "      <td>NaN</td>\n",
              "      <td>NaN</td>\n",
              "      <td>$1,000.00</td>\n",
              "      <td>$300.00</td>\n",
              "      <td>10</td>\n",
              "      <td>$25.00</td>\n",
              "      <td>4</td>\n",
              "      <td>30</td>\n",
              "      <td>5 weeks ago</td>\n",
              "      <td>t</td>\n",
              "      <td>1</td>\n",
              "      <td>6</td>\n",
              "      <td>17</td>\n",
              "      <td>220</td>\n",
              "      <td>2016-01-04</td>\n",
              "      <td>20</td>\n",
              "      <td>2014-07-30</td>\n",
              "      <td>2015-09-03</td>\n",
              "      <td>97.0</td>\n",
              "      <td>10.0</td>\n",
              "      <td>10.0</td>\n",
              "      <td>10.0</td>\n",
              "      <td>10.0</td>\n",
              "      <td>10.0</td>\n",
              "      <td>10.0</td>\n",
              "      <td>f</td>\n",
              "      <td>NaN</td>\n",
              "      <td>WASHINGTON</td>\n",
              "      <td>f</td>\n",
              "      <td>strict</td>\n",
              "      <td>f</td>\n",
              "      <td>f</td>\n",
              "      <td>2</td>\n",
              "      <td>1.15</td>\n",
              "    </tr>\n",
              "    <tr>\n",
              "      <th>3</th>\n",
              "      <td>7421966</td>\n",
              "      <td>https://www.airbnb.com/rooms/7421966</td>\n",
              "      <td>20160104002432</td>\n",
              "      <td>2016-01-04</td>\n",
              "      <td>Queen Anne Chateau</td>\n",
              "      <td>A charming apartment that sits atop Queen Anne...</td>\n",
              "      <td>NaN</td>\n",
              "      <td>A charming apartment that sits atop Queen Anne...</td>\n",
              "      <td>none</td>\n",
              "      <td>NaN</td>\n",
              "      <td>NaN</td>\n",
              "      <td>NaN</td>\n",
              "      <td>NaN</td>\n",
              "      <td>NaN</td>\n",
              "      <td>https://a0.muscache.com/ac/pictures/94146944/6...</td>\n",
              "      <td>NaN</td>\n",
              "      <td>9851441</td>\n",
              "      <td>https://www.airbnb.com/users/show/9851441</td>\n",
              "      <td>Emily</td>\n",
              "      <td>2013-11-06</td>\n",
              "      <td>Seattle, Washington, United States</td>\n",
              "      <td>NaN</td>\n",
              "      <td>NaN</td>\n",
              "      <td>NaN</td>\n",
              "      <td>NaN</td>\n",
              "      <td>f</td>\n",
              "      <td>https://a2.muscache.com/ac/users/9851441/profi...</td>\n",
              "      <td>https://a2.muscache.com/ac/users/9851441/profi...</td>\n",
              "      <td>Queen Anne</td>\n",
              "      <td>1.0</td>\n",
              "      <td>1.0</td>\n",
              "      <td>['email', 'phone', 'facebook', 'reviews', 'jum...</td>\n",
              "      <td>t</td>\n",
              "      <td>t</td>\n",
              "      <td>8th Avenue West, Seattle, WA 98119, United States</td>\n",
              "      <td>Queen Anne</td>\n",
              "      <td>West Queen Anne</td>\n",
              "      <td>Queen Anne</td>\n",
              "      <td>Seattle</td>\n",
              "      <td>WA</td>\n",
              "      <td>...</td>\n",
              "      <td>0.0</td>\n",
              "      <td>2.0</td>\n",
              "      <td>Real Bed</td>\n",
              "      <td>{Internet,\"Wireless Internet\",Kitchen,\"Indoor ...</td>\n",
              "      <td>NaN</td>\n",
              "      <td>$100.00</td>\n",
              "      <td>$650.00</td>\n",
              "      <td>$2,300.00</td>\n",
              "      <td>NaN</td>\n",
              "      <td>NaN</td>\n",
              "      <td>1</td>\n",
              "      <td>$0.00</td>\n",
              "      <td>1</td>\n",
              "      <td>1125</td>\n",
              "      <td>6 months ago</td>\n",
              "      <td>t</td>\n",
              "      <td>0</td>\n",
              "      <td>0</td>\n",
              "      <td>0</td>\n",
              "      <td>143</td>\n",
              "      <td>2016-01-04</td>\n",
              "      <td>0</td>\n",
              "      <td>NaN</td>\n",
              "      <td>NaN</td>\n",
              "      <td>NaN</td>\n",
              "      <td>NaN</td>\n",
              "      <td>NaN</td>\n",
              "      <td>NaN</td>\n",
              "      <td>NaN</td>\n",
              "      <td>NaN</td>\n",
              "      <td>NaN</td>\n",
              "      <td>f</td>\n",
              "      <td>NaN</td>\n",
              "      <td>WASHINGTON</td>\n",
              "      <td>f</td>\n",
              "      <td>flexible</td>\n",
              "      <td>f</td>\n",
              "      <td>f</td>\n",
              "      <td>1</td>\n",
              "      <td>NaN</td>\n",
              "    </tr>\n",
              "    <tr>\n",
              "      <th>4</th>\n",
              "      <td>278830</td>\n",
              "      <td>https://www.airbnb.com/rooms/278830</td>\n",
              "      <td>20160104002432</td>\n",
              "      <td>2016-01-04</td>\n",
              "      <td>Charming craftsman 3 bdm house</td>\n",
              "      <td>Cozy family craftman house in beautiful neighb...</td>\n",
              "      <td>Cozy family craftman house in beautiful neighb...</td>\n",
              "      <td>Cozy family craftman house in beautiful neighb...</td>\n",
              "      <td>none</td>\n",
              "      <td>We are in the beautiful neighborhood of Queen ...</td>\n",
              "      <td>Belltown</td>\n",
              "      <td>The nearest public transit bus (D Line) is 2 b...</td>\n",
              "      <td>NaN</td>\n",
              "      <td>NaN</td>\n",
              "      <td>https://a1.muscache.com/ac/pictures/6120468/b0...</td>\n",
              "      <td>NaN</td>\n",
              "      <td>1452570</td>\n",
              "      <td>https://www.airbnb.com/users/show/1452570</td>\n",
              "      <td>Emily</td>\n",
              "      <td>2011-11-29</td>\n",
              "      <td>Seattle, Washington, United States</td>\n",
              "      <td>Hi, I live in Seattle, Washington but I'm orig...</td>\n",
              "      <td>within an hour</td>\n",
              "      <td>100%</td>\n",
              "      <td>NaN</td>\n",
              "      <td>f</td>\n",
              "      <td>https://a0.muscache.com/ac/users/1452570/profi...</td>\n",
              "      <td>https://a0.muscache.com/ac/users/1452570/profi...</td>\n",
              "      <td>Queen Anne</td>\n",
              "      <td>2.0</td>\n",
              "      <td>2.0</td>\n",
              "      <td>['email', 'phone', 'facebook', 'reviews', 'kba']</td>\n",
              "      <td>t</td>\n",
              "      <td>t</td>\n",
              "      <td>14th Ave W, Seattle, WA 98119, United States</td>\n",
              "      <td>Queen Anne</td>\n",
              "      <td>West Queen Anne</td>\n",
              "      <td>Queen Anne</td>\n",
              "      <td>Seattle</td>\n",
              "      <td>WA</td>\n",
              "      <td>...</td>\n",
              "      <td>3.0</td>\n",
              "      <td>3.0</td>\n",
              "      <td>Real Bed</td>\n",
              "      <td>{TV,\"Cable TV\",Internet,\"Wireless Internet\",Ki...</td>\n",
              "      <td>NaN</td>\n",
              "      <td>$450.00</td>\n",
              "      <td>NaN</td>\n",
              "      <td>NaN</td>\n",
              "      <td>$700.00</td>\n",
              "      <td>$125.00</td>\n",
              "      <td>6</td>\n",
              "      <td>$15.00</td>\n",
              "      <td>1</td>\n",
              "      <td>1125</td>\n",
              "      <td>7 weeks ago</td>\n",
              "      <td>t</td>\n",
              "      <td>30</td>\n",
              "      <td>60</td>\n",
              "      <td>90</td>\n",
              "      <td>365</td>\n",
              "      <td>2016-01-04</td>\n",
              "      <td>38</td>\n",
              "      <td>2012-07-10</td>\n",
              "      <td>2015-10-24</td>\n",
              "      <td>92.0</td>\n",
              "      <td>9.0</td>\n",
              "      <td>9.0</td>\n",
              "      <td>10.0</td>\n",
              "      <td>10.0</td>\n",
              "      <td>9.0</td>\n",
              "      <td>9.0</td>\n",
              "      <td>f</td>\n",
              "      <td>NaN</td>\n",
              "      <td>WASHINGTON</td>\n",
              "      <td>f</td>\n",
              "      <td>strict</td>\n",
              "      <td>f</td>\n",
              "      <td>f</td>\n",
              "      <td>1</td>\n",
              "      <td>0.89</td>\n",
              "    </tr>\n",
              "  </tbody>\n",
              "</table>\n",
              "<p>5 rows × 92 columns</p>\n",
              "</div>"
            ],
            "text/plain": [
              "        id  ... reviews_per_month\n",
              "0   241032  ...              4.07\n",
              "1   953595  ...              1.48\n",
              "2  3308979  ...              1.15\n",
              "3  7421966  ...               NaN\n",
              "4   278830  ...              0.89\n",
              "\n",
              "[5 rows x 92 columns]"
            ]
          },
          "metadata": {
            "tags": []
          },
          "execution_count": 9
        }
      ]
    },
    {
      "cell_type": "code",
      "metadata": {
        "colab": {
          "base_uri": "https://localhost:8080/"
        },
        "id": "UjkJOxYWzJoc",
        "outputId": "c8a692fd-002e-4190-c1b5-3c96b641132e"
      },
      "source": [
        "# Before data preparation: Find which columns are numeric and which categorical\n",
        "print(\"Number of columns: \" + str(df.shape[1]), end=\"\\n\\n\")\n",
        "\n",
        "print(\"Numerical variables: \" + str(len(df.dtypes[df.dtypes != \"object\"])))\n",
        "# print(df.dtypes[df.dtypes != \"object\"])\n",
        "num_df = df.select_dtypes(include=['int64', 'float64'])\n",
        "print(num_df.shape, end=\"\\n\\n\")\n",
        "num_df_cols = num_df.columns\n",
        "\n",
        "print(\"Categorical variables: \" + str(len(df.dtypes[df.dtypes == \"object\"])))\n",
        "#print(df.dtypes[df.dtypes == \"object\"])\n",
        "cat_df = df.select_dtypes(include=['object'])\n",
        "print(cat_df.shape, end=\"\\n\\n\")\n",
        "cat_df_cols = cat_df.columns"
      ],
      "execution_count": null,
      "outputs": [
        {
          "output_type": "stream",
          "text": [
            "Number of columns: 92\n",
            "\n",
            "Numerical variables: 30\n",
            "(3818, 30)\n",
            "\n",
            "Categorical variables: 62\n",
            "(3818, 62)\n",
            "\n"
          ],
          "name": "stdout"
        }
      ]
    },
    {
      "cell_type": "markdown",
      "metadata": {
        "id": "7d14c3dc"
      },
      "source": [
        "## **Data Preparation**"
      ]
    },
    {
      "cell_type": "code",
      "metadata": {
        "colab": {
          "base_uri": "https://localhost:8080/",
          "height": 813
        },
        "id": "klyvoKmgF7__",
        "outputId": "73ac48db-f378-4447-e4c0-0b6f7cd5e697"
      },
      "source": [
        "# Refactor spaces for underscores in feature names\n",
        "df.columns = [label.replace(' ', '_') for label in df.columns]\n",
        "df.head()"
      ],
      "execution_count": null,
      "outputs": [
        {
          "output_type": "execute_result",
          "data": {
            "text/html": [
              "<div>\n",
              "<style scoped>\n",
              "    .dataframe tbody tr th:only-of-type {\n",
              "        vertical-align: middle;\n",
              "    }\n",
              "\n",
              "    .dataframe tbody tr th {\n",
              "        vertical-align: top;\n",
              "    }\n",
              "\n",
              "    .dataframe thead th {\n",
              "        text-align: right;\n",
              "    }\n",
              "</style>\n",
              "<table border=\"1\" class=\"dataframe\">\n",
              "  <thead>\n",
              "    <tr style=\"text-align: right;\">\n",
              "      <th></th>\n",
              "      <th>id</th>\n",
              "      <th>listing_url</th>\n",
              "      <th>scrape_id</th>\n",
              "      <th>last_scraped</th>\n",
              "      <th>name</th>\n",
              "      <th>summary</th>\n",
              "      <th>space</th>\n",
              "      <th>description</th>\n",
              "      <th>experiences_offered</th>\n",
              "      <th>neighborhood_overview</th>\n",
              "      <th>notes</th>\n",
              "      <th>transit</th>\n",
              "      <th>thumbnail_url</th>\n",
              "      <th>medium_url</th>\n",
              "      <th>picture_url</th>\n",
              "      <th>xl_picture_url</th>\n",
              "      <th>host_id</th>\n",
              "      <th>host_url</th>\n",
              "      <th>host_name</th>\n",
              "      <th>host_since</th>\n",
              "      <th>host_location</th>\n",
              "      <th>host_about</th>\n",
              "      <th>host_response_time</th>\n",
              "      <th>host_response_rate</th>\n",
              "      <th>host_acceptance_rate</th>\n",
              "      <th>host_is_superhost</th>\n",
              "      <th>host_thumbnail_url</th>\n",
              "      <th>host_picture_url</th>\n",
              "      <th>host_neighbourhood</th>\n",
              "      <th>host_listings_count</th>\n",
              "      <th>host_total_listings_count</th>\n",
              "      <th>host_verifications</th>\n",
              "      <th>host_has_profile_pic</th>\n",
              "      <th>host_identity_verified</th>\n",
              "      <th>street</th>\n",
              "      <th>neighbourhood</th>\n",
              "      <th>neighbourhood_cleansed</th>\n",
              "      <th>neighbourhood_group_cleansed</th>\n",
              "      <th>city</th>\n",
              "      <th>state</th>\n",
              "      <th>...</th>\n",
              "      <th>bedrooms</th>\n",
              "      <th>beds</th>\n",
              "      <th>bed_type</th>\n",
              "      <th>amenities</th>\n",
              "      <th>square_feet</th>\n",
              "      <th>price</th>\n",
              "      <th>weekly_price</th>\n",
              "      <th>monthly_price</th>\n",
              "      <th>security_deposit</th>\n",
              "      <th>cleaning_fee</th>\n",
              "      <th>guests_included</th>\n",
              "      <th>extra_people</th>\n",
              "      <th>minimum_nights</th>\n",
              "      <th>maximum_nights</th>\n",
              "      <th>calendar_updated</th>\n",
              "      <th>has_availability</th>\n",
              "      <th>availability_30</th>\n",
              "      <th>availability_60</th>\n",
              "      <th>availability_90</th>\n",
              "      <th>availability_365</th>\n",
              "      <th>calendar_last_scraped</th>\n",
              "      <th>number_of_reviews</th>\n",
              "      <th>first_review</th>\n",
              "      <th>last_review</th>\n",
              "      <th>review_scores_rating</th>\n",
              "      <th>review_scores_accuracy</th>\n",
              "      <th>review_scores_cleanliness</th>\n",
              "      <th>review_scores_checkin</th>\n",
              "      <th>review_scores_communication</th>\n",
              "      <th>review_scores_location</th>\n",
              "      <th>review_scores_value</th>\n",
              "      <th>requires_license</th>\n",
              "      <th>license</th>\n",
              "      <th>jurisdiction_names</th>\n",
              "      <th>instant_bookable</th>\n",
              "      <th>cancellation_policy</th>\n",
              "      <th>require_guest_profile_picture</th>\n",
              "      <th>require_guest_phone_verification</th>\n",
              "      <th>calculated_host_listings_count</th>\n",
              "      <th>reviews_per_month</th>\n",
              "    </tr>\n",
              "  </thead>\n",
              "  <tbody>\n",
              "    <tr>\n",
              "      <th>0</th>\n",
              "      <td>241032</td>\n",
              "      <td>https://www.airbnb.com/rooms/241032</td>\n",
              "      <td>20160104002432</td>\n",
              "      <td>2016-01-04</td>\n",
              "      <td>Stylish Queen Anne Apartment</td>\n",
              "      <td>NaN</td>\n",
              "      <td>Make your self at home in this charming one-be...</td>\n",
              "      <td>Make your self at home in this charming one-be...</td>\n",
              "      <td>none</td>\n",
              "      <td>NaN</td>\n",
              "      <td>NaN</td>\n",
              "      <td>NaN</td>\n",
              "      <td>NaN</td>\n",
              "      <td>NaN</td>\n",
              "      <td>https://a1.muscache.com/ac/pictures/67560560/c...</td>\n",
              "      <td>NaN</td>\n",
              "      <td>956883</td>\n",
              "      <td>https://www.airbnb.com/users/show/956883</td>\n",
              "      <td>Maija</td>\n",
              "      <td>2011-08-11</td>\n",
              "      <td>Seattle, Washington, United States</td>\n",
              "      <td>I am an artist, interior designer, and run a s...</td>\n",
              "      <td>within a few hours</td>\n",
              "      <td>96%</td>\n",
              "      <td>100%</td>\n",
              "      <td>f</td>\n",
              "      <td>https://a0.muscache.com/ac/users/956883/profil...</td>\n",
              "      <td>https://a0.muscache.com/ac/users/956883/profil...</td>\n",
              "      <td>Queen Anne</td>\n",
              "      <td>3.0</td>\n",
              "      <td>3.0</td>\n",
              "      <td>['email', 'phone', 'reviews', 'kba']</td>\n",
              "      <td>t</td>\n",
              "      <td>t</td>\n",
              "      <td>Gilman Dr W, Seattle, WA 98119, United States</td>\n",
              "      <td>Queen Anne</td>\n",
              "      <td>West Queen Anne</td>\n",
              "      <td>Queen Anne</td>\n",
              "      <td>Seattle</td>\n",
              "      <td>WA</td>\n",
              "      <td>...</td>\n",
              "      <td>1.0</td>\n",
              "      <td>1.0</td>\n",
              "      <td>Real Bed</td>\n",
              "      <td>{TV,\"Cable TV\",Internet,\"Wireless Internet\",\"A...</td>\n",
              "      <td>NaN</td>\n",
              "      <td>$85.00</td>\n",
              "      <td>NaN</td>\n",
              "      <td>NaN</td>\n",
              "      <td>NaN</td>\n",
              "      <td>NaN</td>\n",
              "      <td>2</td>\n",
              "      <td>$5.00</td>\n",
              "      <td>1</td>\n",
              "      <td>365</td>\n",
              "      <td>4 weeks ago</td>\n",
              "      <td>t</td>\n",
              "      <td>14</td>\n",
              "      <td>41</td>\n",
              "      <td>71</td>\n",
              "      <td>346</td>\n",
              "      <td>2016-01-04</td>\n",
              "      <td>207</td>\n",
              "      <td>2011-11-01</td>\n",
              "      <td>2016-01-02</td>\n",
              "      <td>95.0</td>\n",
              "      <td>10.0</td>\n",
              "      <td>10.0</td>\n",
              "      <td>10.0</td>\n",
              "      <td>10.0</td>\n",
              "      <td>9.0</td>\n",
              "      <td>10.0</td>\n",
              "      <td>f</td>\n",
              "      <td>NaN</td>\n",
              "      <td>WASHINGTON</td>\n",
              "      <td>f</td>\n",
              "      <td>moderate</td>\n",
              "      <td>f</td>\n",
              "      <td>f</td>\n",
              "      <td>2</td>\n",
              "      <td>4.07</td>\n",
              "    </tr>\n",
              "    <tr>\n",
              "      <th>1</th>\n",
              "      <td>953595</td>\n",
              "      <td>https://www.airbnb.com/rooms/953595</td>\n",
              "      <td>20160104002432</td>\n",
              "      <td>2016-01-04</td>\n",
              "      <td>Bright &amp; Airy Queen Anne Apartment</td>\n",
              "      <td>Chemically sensitive? We've removed the irrita...</td>\n",
              "      <td>Beautiful, hypoallergenic apartment in an extr...</td>\n",
              "      <td>Chemically sensitive? We've removed the irrita...</td>\n",
              "      <td>none</td>\n",
              "      <td>Queen Anne is a wonderful, truly functional vi...</td>\n",
              "      <td>What's up with the free pillows?  Our home was...</td>\n",
              "      <td>Convenient bus stops are just down the block, ...</td>\n",
              "      <td>https://a0.muscache.com/ac/pictures/14409893/f...</td>\n",
              "      <td>https://a0.muscache.com/im/pictures/14409893/f...</td>\n",
              "      <td>https://a0.muscache.com/ac/pictures/14409893/f...</td>\n",
              "      <td>https://a0.muscache.com/ac/pictures/14409893/f...</td>\n",
              "      <td>5177328</td>\n",
              "      <td>https://www.airbnb.com/users/show/5177328</td>\n",
              "      <td>Andrea</td>\n",
              "      <td>2013-02-21</td>\n",
              "      <td>Seattle, Washington, United States</td>\n",
              "      <td>Living east coast/left coast/overseas.  Time i...</td>\n",
              "      <td>within an hour</td>\n",
              "      <td>98%</td>\n",
              "      <td>100%</td>\n",
              "      <td>t</td>\n",
              "      <td>https://a0.muscache.com/ac/users/5177328/profi...</td>\n",
              "      <td>https://a0.muscache.com/ac/users/5177328/profi...</td>\n",
              "      <td>Queen Anne</td>\n",
              "      <td>6.0</td>\n",
              "      <td>6.0</td>\n",
              "      <td>['email', 'phone', 'facebook', 'linkedin', 're...</td>\n",
              "      <td>t</td>\n",
              "      <td>t</td>\n",
              "      <td>7th Avenue West, Seattle, WA 98119, United States</td>\n",
              "      <td>Queen Anne</td>\n",
              "      <td>West Queen Anne</td>\n",
              "      <td>Queen Anne</td>\n",
              "      <td>Seattle</td>\n",
              "      <td>WA</td>\n",
              "      <td>...</td>\n",
              "      <td>1.0</td>\n",
              "      <td>1.0</td>\n",
              "      <td>Real Bed</td>\n",
              "      <td>{TV,Internet,\"Wireless Internet\",Kitchen,\"Free...</td>\n",
              "      <td>NaN</td>\n",
              "      <td>$150.00</td>\n",
              "      <td>$1,000.00</td>\n",
              "      <td>$3,000.00</td>\n",
              "      <td>$100.00</td>\n",
              "      <td>$40.00</td>\n",
              "      <td>1</td>\n",
              "      <td>$0.00</td>\n",
              "      <td>2</td>\n",
              "      <td>90</td>\n",
              "      <td>today</td>\n",
              "      <td>t</td>\n",
              "      <td>13</td>\n",
              "      <td>13</td>\n",
              "      <td>16</td>\n",
              "      <td>291</td>\n",
              "      <td>2016-01-04</td>\n",
              "      <td>43</td>\n",
              "      <td>2013-08-19</td>\n",
              "      <td>2015-12-29</td>\n",
              "      <td>96.0</td>\n",
              "      <td>10.0</td>\n",
              "      <td>10.0</td>\n",
              "      <td>10.0</td>\n",
              "      <td>10.0</td>\n",
              "      <td>10.0</td>\n",
              "      <td>10.0</td>\n",
              "      <td>f</td>\n",
              "      <td>NaN</td>\n",
              "      <td>WASHINGTON</td>\n",
              "      <td>f</td>\n",
              "      <td>strict</td>\n",
              "      <td>t</td>\n",
              "      <td>t</td>\n",
              "      <td>6</td>\n",
              "      <td>1.48</td>\n",
              "    </tr>\n",
              "    <tr>\n",
              "      <th>2</th>\n",
              "      <td>3308979</td>\n",
              "      <td>https://www.airbnb.com/rooms/3308979</td>\n",
              "      <td>20160104002432</td>\n",
              "      <td>2016-01-04</td>\n",
              "      <td>New Modern House-Amazing water view</td>\n",
              "      <td>New modern house built in 2013.  Spectacular s...</td>\n",
              "      <td>Our house is modern, light and fresh with a wa...</td>\n",
              "      <td>New modern house built in 2013.  Spectacular s...</td>\n",
              "      <td>none</td>\n",
              "      <td>Upper Queen Anne is a charming neighborhood fu...</td>\n",
              "      <td>Our house is located just 5 short blocks to To...</td>\n",
              "      <td>A bus stop is just 2 blocks away.   Easy bus a...</td>\n",
              "      <td>NaN</td>\n",
              "      <td>NaN</td>\n",
              "      <td>https://a2.muscache.com/ac/pictures/b4324e0f-a...</td>\n",
              "      <td>NaN</td>\n",
              "      <td>16708587</td>\n",
              "      <td>https://www.airbnb.com/users/show/16708587</td>\n",
              "      <td>Jill</td>\n",
              "      <td>2014-06-12</td>\n",
              "      <td>Seattle, Washington, United States</td>\n",
              "      <td>i love living in Seattle.  i grew up in the mi...</td>\n",
              "      <td>within a few hours</td>\n",
              "      <td>67%</td>\n",
              "      <td>100%</td>\n",
              "      <td>f</td>\n",
              "      <td>https://a1.muscache.com/ac/users/16708587/prof...</td>\n",
              "      <td>https://a1.muscache.com/ac/users/16708587/prof...</td>\n",
              "      <td>Queen Anne</td>\n",
              "      <td>2.0</td>\n",
              "      <td>2.0</td>\n",
              "      <td>['email', 'phone', 'google', 'reviews', 'jumio']</td>\n",
              "      <td>t</td>\n",
              "      <td>t</td>\n",
              "      <td>West Lee Street, Seattle, WA 98119, United States</td>\n",
              "      <td>Queen Anne</td>\n",
              "      <td>West Queen Anne</td>\n",
              "      <td>Queen Anne</td>\n",
              "      <td>Seattle</td>\n",
              "      <td>WA</td>\n",
              "      <td>...</td>\n",
              "      <td>5.0</td>\n",
              "      <td>7.0</td>\n",
              "      <td>Real Bed</td>\n",
              "      <td>{TV,\"Cable TV\",Internet,\"Wireless Internet\",\"A...</td>\n",
              "      <td>NaN</td>\n",
              "      <td>$975.00</td>\n",
              "      <td>NaN</td>\n",
              "      <td>NaN</td>\n",
              "      <td>$1,000.00</td>\n",
              "      <td>$300.00</td>\n",
              "      <td>10</td>\n",
              "      <td>$25.00</td>\n",
              "      <td>4</td>\n",
              "      <td>30</td>\n",
              "      <td>5 weeks ago</td>\n",
              "      <td>t</td>\n",
              "      <td>1</td>\n",
              "      <td>6</td>\n",
              "      <td>17</td>\n",
              "      <td>220</td>\n",
              "      <td>2016-01-04</td>\n",
              "      <td>20</td>\n",
              "      <td>2014-07-30</td>\n",
              "      <td>2015-09-03</td>\n",
              "      <td>97.0</td>\n",
              "      <td>10.0</td>\n",
              "      <td>10.0</td>\n",
              "      <td>10.0</td>\n",
              "      <td>10.0</td>\n",
              "      <td>10.0</td>\n",
              "      <td>10.0</td>\n",
              "      <td>f</td>\n",
              "      <td>NaN</td>\n",
              "      <td>WASHINGTON</td>\n",
              "      <td>f</td>\n",
              "      <td>strict</td>\n",
              "      <td>f</td>\n",
              "      <td>f</td>\n",
              "      <td>2</td>\n",
              "      <td>1.15</td>\n",
              "    </tr>\n",
              "    <tr>\n",
              "      <th>3</th>\n",
              "      <td>7421966</td>\n",
              "      <td>https://www.airbnb.com/rooms/7421966</td>\n",
              "      <td>20160104002432</td>\n",
              "      <td>2016-01-04</td>\n",
              "      <td>Queen Anne Chateau</td>\n",
              "      <td>A charming apartment that sits atop Queen Anne...</td>\n",
              "      <td>NaN</td>\n",
              "      <td>A charming apartment that sits atop Queen Anne...</td>\n",
              "      <td>none</td>\n",
              "      <td>NaN</td>\n",
              "      <td>NaN</td>\n",
              "      <td>NaN</td>\n",
              "      <td>NaN</td>\n",
              "      <td>NaN</td>\n",
              "      <td>https://a0.muscache.com/ac/pictures/94146944/6...</td>\n",
              "      <td>NaN</td>\n",
              "      <td>9851441</td>\n",
              "      <td>https://www.airbnb.com/users/show/9851441</td>\n",
              "      <td>Emily</td>\n",
              "      <td>2013-11-06</td>\n",
              "      <td>Seattle, Washington, United States</td>\n",
              "      <td>NaN</td>\n",
              "      <td>NaN</td>\n",
              "      <td>NaN</td>\n",
              "      <td>NaN</td>\n",
              "      <td>f</td>\n",
              "      <td>https://a2.muscache.com/ac/users/9851441/profi...</td>\n",
              "      <td>https://a2.muscache.com/ac/users/9851441/profi...</td>\n",
              "      <td>Queen Anne</td>\n",
              "      <td>1.0</td>\n",
              "      <td>1.0</td>\n",
              "      <td>['email', 'phone', 'facebook', 'reviews', 'jum...</td>\n",
              "      <td>t</td>\n",
              "      <td>t</td>\n",
              "      <td>8th Avenue West, Seattle, WA 98119, United States</td>\n",
              "      <td>Queen Anne</td>\n",
              "      <td>West Queen Anne</td>\n",
              "      <td>Queen Anne</td>\n",
              "      <td>Seattle</td>\n",
              "      <td>WA</td>\n",
              "      <td>...</td>\n",
              "      <td>0.0</td>\n",
              "      <td>2.0</td>\n",
              "      <td>Real Bed</td>\n",
              "      <td>{Internet,\"Wireless Internet\",Kitchen,\"Indoor ...</td>\n",
              "      <td>NaN</td>\n",
              "      <td>$100.00</td>\n",
              "      <td>$650.00</td>\n",
              "      <td>$2,300.00</td>\n",
              "      <td>NaN</td>\n",
              "      <td>NaN</td>\n",
              "      <td>1</td>\n",
              "      <td>$0.00</td>\n",
              "      <td>1</td>\n",
              "      <td>1125</td>\n",
              "      <td>6 months ago</td>\n",
              "      <td>t</td>\n",
              "      <td>0</td>\n",
              "      <td>0</td>\n",
              "      <td>0</td>\n",
              "      <td>143</td>\n",
              "      <td>2016-01-04</td>\n",
              "      <td>0</td>\n",
              "      <td>NaN</td>\n",
              "      <td>NaN</td>\n",
              "      <td>NaN</td>\n",
              "      <td>NaN</td>\n",
              "      <td>NaN</td>\n",
              "      <td>NaN</td>\n",
              "      <td>NaN</td>\n",
              "      <td>NaN</td>\n",
              "      <td>NaN</td>\n",
              "      <td>f</td>\n",
              "      <td>NaN</td>\n",
              "      <td>WASHINGTON</td>\n",
              "      <td>f</td>\n",
              "      <td>flexible</td>\n",
              "      <td>f</td>\n",
              "      <td>f</td>\n",
              "      <td>1</td>\n",
              "      <td>NaN</td>\n",
              "    </tr>\n",
              "    <tr>\n",
              "      <th>4</th>\n",
              "      <td>278830</td>\n",
              "      <td>https://www.airbnb.com/rooms/278830</td>\n",
              "      <td>20160104002432</td>\n",
              "      <td>2016-01-04</td>\n",
              "      <td>Charming craftsman 3 bdm house</td>\n",
              "      <td>Cozy family craftman house in beautiful neighb...</td>\n",
              "      <td>Cozy family craftman house in beautiful neighb...</td>\n",
              "      <td>Cozy family craftman house in beautiful neighb...</td>\n",
              "      <td>none</td>\n",
              "      <td>We are in the beautiful neighborhood of Queen ...</td>\n",
              "      <td>Belltown</td>\n",
              "      <td>The nearest public transit bus (D Line) is 2 b...</td>\n",
              "      <td>NaN</td>\n",
              "      <td>NaN</td>\n",
              "      <td>https://a1.muscache.com/ac/pictures/6120468/b0...</td>\n",
              "      <td>NaN</td>\n",
              "      <td>1452570</td>\n",
              "      <td>https://www.airbnb.com/users/show/1452570</td>\n",
              "      <td>Emily</td>\n",
              "      <td>2011-11-29</td>\n",
              "      <td>Seattle, Washington, United States</td>\n",
              "      <td>Hi, I live in Seattle, Washington but I'm orig...</td>\n",
              "      <td>within an hour</td>\n",
              "      <td>100%</td>\n",
              "      <td>NaN</td>\n",
              "      <td>f</td>\n",
              "      <td>https://a0.muscache.com/ac/users/1452570/profi...</td>\n",
              "      <td>https://a0.muscache.com/ac/users/1452570/profi...</td>\n",
              "      <td>Queen Anne</td>\n",
              "      <td>2.0</td>\n",
              "      <td>2.0</td>\n",
              "      <td>['email', 'phone', 'facebook', 'reviews', 'kba']</td>\n",
              "      <td>t</td>\n",
              "      <td>t</td>\n",
              "      <td>14th Ave W, Seattle, WA 98119, United States</td>\n",
              "      <td>Queen Anne</td>\n",
              "      <td>West Queen Anne</td>\n",
              "      <td>Queen Anne</td>\n",
              "      <td>Seattle</td>\n",
              "      <td>WA</td>\n",
              "      <td>...</td>\n",
              "      <td>3.0</td>\n",
              "      <td>3.0</td>\n",
              "      <td>Real Bed</td>\n",
              "      <td>{TV,\"Cable TV\",Internet,\"Wireless Internet\",Ki...</td>\n",
              "      <td>NaN</td>\n",
              "      <td>$450.00</td>\n",
              "      <td>NaN</td>\n",
              "      <td>NaN</td>\n",
              "      <td>$700.00</td>\n",
              "      <td>$125.00</td>\n",
              "      <td>6</td>\n",
              "      <td>$15.00</td>\n",
              "      <td>1</td>\n",
              "      <td>1125</td>\n",
              "      <td>7 weeks ago</td>\n",
              "      <td>t</td>\n",
              "      <td>30</td>\n",
              "      <td>60</td>\n",
              "      <td>90</td>\n",
              "      <td>365</td>\n",
              "      <td>2016-01-04</td>\n",
              "      <td>38</td>\n",
              "      <td>2012-07-10</td>\n",
              "      <td>2015-10-24</td>\n",
              "      <td>92.0</td>\n",
              "      <td>9.0</td>\n",
              "      <td>9.0</td>\n",
              "      <td>10.0</td>\n",
              "      <td>10.0</td>\n",
              "      <td>9.0</td>\n",
              "      <td>9.0</td>\n",
              "      <td>f</td>\n",
              "      <td>NaN</td>\n",
              "      <td>WASHINGTON</td>\n",
              "      <td>f</td>\n",
              "      <td>strict</td>\n",
              "      <td>f</td>\n",
              "      <td>f</td>\n",
              "      <td>1</td>\n",
              "      <td>0.89</td>\n",
              "    </tr>\n",
              "  </tbody>\n",
              "</table>\n",
              "<p>5 rows × 92 columns</p>\n",
              "</div>"
            ],
            "text/plain": [
              "        id  ... reviews_per_month\n",
              "0   241032  ...              4.07\n",
              "1   953595  ...              1.48\n",
              "2  3308979  ...              1.15\n",
              "3  7421966  ...               NaN\n",
              "4   278830  ...              0.89\n",
              "\n",
              "[5 rows x 92 columns]"
            ]
          },
          "metadata": {
            "tags": []
          },
          "execution_count": 11
        }
      ]
    },
    {
      "cell_type": "markdown",
      "metadata": {
        "id": "c0464513"
      },
      "source": [
        "### Missing values"
      ]
    },
    {
      "cell_type": "code",
      "metadata": {
        "id": "3b7efcbf",
        "colab": {
          "base_uri": "https://localhost:8080/"
        },
        "outputId": "6d61987a-ba02-4b25-9306-c6607977c29d"
      },
      "source": [
        "# Get the number of missing values for every column higher than cutoff\n",
        "i = 1\n",
        "cutoff = 0.5 # To see all use: 0\n",
        "col_len = df.shape[0]\n",
        "\n",
        "print(\"Columns with >= \" + str(round(cutoff*100)) + \"% values missing:\", end=\"\\n\\n\")\n",
        "\n",
        "\n",
        "for col_name in df.columns:\n",
        "    \n",
        "    num_missing = sum(df[col_name].isna())\n",
        "    perc_missing = num_missing/col_len\n",
        "\n",
        "    if perc_missing >= cutoff:\n",
        "      print(str(i) + \". \" + col_name, end=\"  \")\n",
        "      print(str(num_missing) + \"/\" + str(col_len) + \"  (\" + str(round(perc_missing*100)) + \"%)\")\n",
        "\n",
        "    i += 1"
      ],
      "execution_count": null,
      "outputs": [
        {
          "output_type": "stream",
          "text": [
            "Columns with >= 50% values missing:\n",
            "\n",
            "57. square_feet  3721/3818  (97%)\n",
            "60. monthly_price  2301/3818  (60%)\n",
            "61. security_deposit  1952/3818  (51%)\n",
            "85. license  3818/3818  (100%)\n"
          ],
          "name": "stdout"
        }
      ]
    },
    {
      "cell_type": "code",
      "metadata": {
        "id": "cQeDbYQq7oRg",
        "colab": {
          "base_uri": "https://localhost:8080/"
        },
        "outputId": "78cb6a0e-057b-4d3c-95ca-8838fa91c5b0"
      },
      "source": [
        "# Drop columns with a single unique value including the missing values\n",
        "# This includes dropping the columns with all missing values --> df = df.dropna(how=\"all\", axis=1)\n",
        "nunique = df.nunique(dropna=False)\n",
        "cols_to_drop = nunique[nunique == 1].index\n",
        "\n",
        "print(\"Columns to drop: \" + str(len(cols_to_drop)))\n",
        "print(cols_to_drop)\n",
        "\n",
        "df = df.drop(cols_to_drop, axis=1)\n",
        "df.shape"
      ],
      "execution_count": null,
      "outputs": [
        {
          "output_type": "stream",
          "text": [
            "Columns to drop: 11\n",
            "Index(['scrape_id', 'last_scraped', 'experiences_offered', 'market',\n",
            "       'country_code', 'country', 'has_availability', 'calendar_last_scraped',\n",
            "       'requires_license', 'license', 'jurisdiction_names'],\n",
            "      dtype='object')\n"
          ],
          "name": "stdout"
        },
        {
          "output_type": "execute_result",
          "data": {
            "text/plain": [
              "(3818, 81)"
            ]
          },
          "metadata": {
            "tags": []
          },
          "execution_count": 13
        }
      ]
    },
    {
      "cell_type": "code",
      "metadata": {
        "id": "R1eJ0l64-tC6"
      },
      "source": [
        "# # Exploratory code to understand nunique() function\n",
        "\n",
        "# # We want to remove only columns with one unique value including the missing values\n",
        "# df_test = pd.DataFrame({'A': [1, 2, 3], \n",
        "#                         'B': [1, 1, 1],\n",
        "#                         'C': [None, None, None], \n",
        "#                         'D': [1, 2, None],\n",
        "#                         'E': [1, 1, None]})\n",
        "# nunique = df_test.nunique(dropna=False)\n",
        "# print(nunique)\n",
        "# cols_to_drop = nunique[nunique == 1].index\n",
        "\n",
        "# print(\"Columns to drop: \" + str(len(cols_to_drop)))\n",
        "# print(cols_to_drop)\n",
        "\n",
        "# df_test = df_test.drop(cols_to_drop, axis=1)\n",
        "# print(df_test.shape)\n",
        "# df_test"
      ],
      "execution_count": null,
      "outputs": []
    },
    {
      "cell_type": "code",
      "metadata": {
        "id": "pxUTLFXGq-cB",
        "colab": {
          "base_uri": "https://localhost:8080/"
        },
        "outputId": "cd1b062f-1af6-4553-a555-0ddf7e8cd33e"
      },
      "source": [
        "# Drop the rows with missing values in response column\n",
        "response_col = \"price\"\n",
        "df = df.dropna(subset=[response_col])\n",
        "df.shape   "
      ],
      "execution_count": null,
      "outputs": [
        {
          "output_type": "execute_result",
          "data": {
            "text/plain": [
              "(3818, 81)"
            ]
          },
          "metadata": {
            "tags": []
          },
          "execution_count": 15
        }
      ]
    },
    {
      "cell_type": "code",
      "metadata": {
        "id": "xHA3ytoEZQM0",
        "colab": {
          "base_uri": "https://localhost:8080/"
        },
        "outputId": "4ee9c926-5e75-4f28-87da-5b3765a1379f"
      },
      "source": [
        "# Tranform response variable to numeric (if neceessary)\n",
        "df[response_col] = df[response_col].apply(lambda value: pd.to_numeric(value.replace(\"$\", \"\").replace(\",\", \"\")))\n",
        "print(df[response_col])"
      ],
      "execution_count": null,
      "outputs": [
        {
          "output_type": "stream",
          "text": [
            "0        85.0\n",
            "1       150.0\n",
            "2       975.0\n",
            "3       100.0\n",
            "4       450.0\n",
            "        ...  \n",
            "3813    359.0\n",
            "3814     79.0\n",
            "3815     93.0\n",
            "3816     99.0\n",
            "3817     87.0\n",
            "Name: price, Length: 3818, dtype: float64\n"
          ],
          "name": "stdout"
        }
      ]
    },
    {
      "cell_type": "markdown",
      "metadata": {
        "id": "zS7uQdNgiczA"
      },
      "source": [
        "### Correlation matrix"
      ]
    },
    {
      "cell_type": "code",
      "metadata": {
        "colab": {
          "base_uri": "https://localhost:8080/",
          "height": 556
        },
        "id": "F3nWrjW_ihdB",
        "outputId": "9063df29-3c06-48a2-821c-ec168c512091"
      },
      "source": [
        "# Which variables are related to another\n",
        "# The heatmap only visualizes numerical features as they are the ones that can show correlation\n",
        "print(\"Number of numerical variables: \" + str(len(df.dtypes[df.dtypes != \"object\"])))\n",
        "plt.figure(figsize = (20, 15)) # width, height. ratio 4:3\n",
        "sns.heatmap(df.corr(), annot=True, linewidths=.1, fmt=\".1f\");"
      ],
      "execution_count": null,
      "outputs": [
        {
          "output_type": "stream",
          "text": [
            "Number of numerical variables: 29\n"
          ],
          "name": "stdout"
        },
        {
          "output_type": "display_data",
          "data": {
            "image/png": "[encoded data removed]",
            "text/plain": [
              "<Figure size 1440x1080 with 2 Axes>"
            ]
          },
          "metadata": {
            "tags": [],
            "needs_background": "light"
          }
        }
      ]
    },
    {
      "cell_type": "markdown",
      "metadata": {
        "id": "Lq2IiIuMojTL"
      },
      "source": [
        "From the heatmap we observe the following correlations between features:\n",
        "- High correlation (>= |+-0.8|)\n",
        " - host_total_listings_count <--> host_listings_count\n",
        " - bedrooms <--> accommodates <--> beds\n",
        " - availability_30 <--> availability_60 <--> availability_90"
      ]
    },
    {
      "cell_type": "markdown",
      "metadata": {
        "id": "961226a6"
      },
      "source": [
        "### Handling categorical data"
      ]
    },
    {
      "cell_type": "code",
      "metadata": {
        "id": "88a65cff",
        "colab": {
          "base_uri": "https://localhost:8080/"
        },
        "outputId": "2550cdab-1aac-41ea-ff52-d8582636dad3"
      },
      "source": [
        "# Find which columns are numeric and which categorical\n",
        "print(\"Number of columns: \" + str(df.shape[1]), end=\"\\n\\n\")\n",
        "\n",
        "print(\"Numerical variables: \" + str(len(df.dtypes[df.dtypes != \"object\"])))\n",
        "# print(df.dtypes[df.dtypes != \"object\"])\n",
        "num_df = df.select_dtypes(include=['int64', 'float64'])\n",
        "print(num_df.shape, end=\"\\n\\n\")\n",
        "num_df_cols = num_df.columns\n",
        "\n",
        "print(\"Categorical variables: \" + str(len(df.dtypes[df.dtypes == \"object\"])))\n",
        "#print(df.dtypes[df.dtypes == \"object\"])\n",
        "cat_df = df.select_dtypes(include=['object'])\n",
        "print(cat_df.shape, end=\"\\n\\n\")\n",
        "cat_df_cols = cat_df.columns"
      ],
      "execution_count": null,
      "outputs": [
        {
          "output_type": "stream",
          "text": [
            "Number of columns: 81\n",
            "\n",
            "Numerical variables: 29\n",
            "(3818, 29)\n",
            "\n",
            "Categorical variables: 52\n",
            "(3818, 52)\n",
            "\n"
          ],
          "name": "stdout"
        }
      ]
    },
    {
      "cell_type": "code",
      "metadata": {
        "id": "kpJq02BH0jyk",
        "colab": {
          "base_uri": "https://localhost:8080/"
        },
        "outputId": "faafeca5-6607-47cc-e791-2fd6ae161c3b"
      },
      "source": [
        "# Count unique and missing values in categorical columns with cutoff or less levels\n",
        "cutoff = 30\n",
        "i = 1\n",
        "for col_name in cat_df.columns:\n",
        "  col_value_counts = cat_df[col_name].value_counts(dropna=False)\n",
        "\n",
        "  if len(col_value_counts) <= 20:\n",
        "    print(str(i) + \". ----- \" + col_name + \" -----\")\n",
        "    print(col_value_counts, end=\"\\n\\n\\n\")\n",
        "    i += 1"
      ],
      "execution_count": null,
      "outputs": [
        {
          "output_type": "stream",
          "text": [
            "1. ----- host_response_time -----\n",
            "within an hour        1692\n",
            "within a few hours     968\n",
            "within a day           597\n",
            "NaN                    523\n",
            "a few days or more      38\n",
            "Name: host_response_time, dtype: int64\n",
            "\n",
            "\n",
            "2. ----- host_acceptance_rate -----\n",
            "100%    3044\n",
            "NaN      773\n",
            "0%         1\n",
            "Name: host_acceptance_rate, dtype: int64\n",
            "\n",
            "\n",
            "3. ----- host_is_superhost -----\n",
            "f      3038\n",
            "t       778\n",
            "NaN       2\n",
            "Name: host_is_superhost, dtype: int64\n",
            "\n",
            "\n",
            "4. ----- host_has_profile_pic -----\n",
            "t      3809\n",
            "f         7\n",
            "NaN       2\n",
            "Name: host_has_profile_pic, dtype: int64\n",
            "\n",
            "\n",
            "5. ----- host_identity_verified -----\n",
            "t      2997\n",
            "f       819\n",
            "NaN       2\n",
            "Name: host_identity_verified, dtype: int64\n",
            "\n",
            "\n",
            "6. ----- neighbourhood_group_cleansed -----\n",
            "Other neighborhoods    794\n",
            "Capitol Hill           567\n",
            "Downtown               530\n",
            "Central Area           369\n",
            "Queen Anne             295\n",
            "Ballard                230\n",
            "West Seattle           203\n",
            "Rainier Valley         159\n",
            "University District    122\n",
            "Beacon Hill            118\n",
            "Cascade                 89\n",
            "Northgate               80\n",
            "Delridge                79\n",
            "Lake City               67\n",
            "Magnolia                61\n",
            "Seward Park             44\n",
            "Interbay                11\n",
            "Name: neighbourhood_group_cleansed, dtype: int64\n",
            "\n",
            "\n",
            "7. ----- city -----\n",
            "Seattle                  3810\n",
            "West Seattle                2\n",
            "Seattle                     2\n",
            "Phinney Ridge Seattle       1\n",
            "西雅图                         1\n",
            "seattle                     1\n",
            "Ballard, Seattle            1\n",
            "Name: city, dtype: int64\n",
            "\n",
            "\n",
            "8. ----- state -----\n",
            "WA    3817\n",
            "wa       1\n",
            "Name: state, dtype: int64\n",
            "\n",
            "\n",
            "9. ----- smart_location -----\n",
            "Seattle, WA                  3810\n",
            "West Seattle, WA                2\n",
            "Seattle , WA                    2\n",
            "Ballard, Seattle, WA            1\n",
            "seattle, wa                     1\n",
            "Phinney Ridge Seattle, WA       1\n",
            "西雅图, WA                         1\n",
            "Name: smart_location, dtype: int64\n",
            "\n",
            "\n",
            "10. ----- is_location_exact -----\n",
            "t    3412\n",
            "f     406\n",
            "Name: is_location_exact, dtype: int64\n",
            "\n",
            "\n",
            "11. ----- property_type -----\n",
            "House              1733\n",
            "Apartment          1708\n",
            "Townhouse           118\n",
            "Condominium          91\n",
            "Loft                 40\n",
            "Bed & Breakfast      37\n",
            "Other                22\n",
            "Cabin                21\n",
            "Camper/RV            13\n",
            "Bungalow             13\n",
            "Boat                  8\n",
            "Tent                  5\n",
            "Treehouse             3\n",
            "Dorm                  2\n",
            "Chalet                2\n",
            "Yurt                  1\n",
            "NaN                   1\n",
            "Name: property_type, dtype: int64\n",
            "\n",
            "\n",
            "12. ----- room_type -----\n",
            "Entire home/apt    2541\n",
            "Private room       1160\n",
            "Shared room         117\n",
            "Name: room_type, dtype: int64\n",
            "\n",
            "\n",
            "13. ----- bed_type -----\n",
            "Real Bed         3657\n",
            "Futon              74\n",
            "Pull-out Sofa      47\n",
            "Airbed             27\n",
            "Couch              13\n",
            "Name: bed_type, dtype: int64\n",
            "\n",
            "\n",
            "14. ----- instant_bookable -----\n",
            "f    3227\n",
            "t     591\n",
            "Name: instant_bookable, dtype: int64\n",
            "\n",
            "\n",
            "15. ----- cancellation_policy -----\n",
            "strict      1417\n",
            "moderate    1251\n",
            "flexible    1150\n",
            "Name: cancellation_policy, dtype: int64\n",
            "\n",
            "\n",
            "16. ----- require_guest_profile_picture -----\n",
            "f    3497\n",
            "t     321\n",
            "Name: require_guest_profile_picture, dtype: int64\n",
            "\n",
            "\n",
            "17. ----- require_guest_phone_verification -----\n",
            "f    3443\n",
            "t     375\n",
            "Name: require_guest_phone_verification, dtype: int64\n",
            "\n",
            "\n"
          ],
          "name": "stdout"
        }
      ]
    },
    {
      "cell_type": "markdown",
      "metadata": {
        "id": "oOVl9RLqQCv1"
      },
      "source": [
        "### Normality Test"
      ]
    },
    {
      "cell_type": "markdown",
      "metadata": {
        "id": "r6XZ7DBFRAfE"
      },
      "source": [
        "\"According to the central limit theorem, the distribution of the sample mean satisfies the normal distribution when the number of samples is larger than 30 [2]. Therefore, if the number of samples is larger than 30, the analysis can be performed on the assumption that the normality is satisfied.\"\n",
        "\n",
        "J Rheum Dis. 2019 Jan;26(1):5-11. English.\n",
        "Published online Dec 20, 2018.  https://doi.org/10.4078/jrd.2019.26.1.5\n",
        "Copyright © 2019 by The Korean College of Rheumatology"
      ]
    },
    {
      "cell_type": "markdown",
      "metadata": {
        "id": "fb__CJJ_GghM"
      },
      "source": [
        "### Splitting the data"
      ]
    },
    {
      "cell_type": "code",
      "metadata": {
        "id": "QkLL6Q-dCEEW",
        "colab": {
          "base_uri": "https://localhost:8080/"
        },
        "outputId": "51f422ba-8228-4f74-b179-4602067febc2"
      },
      "source": [
        "# Split data into X matrix and response vector y\n",
        "X = df.loc[:, df.columns != response_col]\n",
        "print(X.shape)\n",
        "\n",
        "y = df[response_col]\n",
        "print(y.shape)"
      ],
      "execution_count": null,
      "outputs": [
        {
          "output_type": "stream",
          "text": [
            "(3818, 80)\n",
            "(3818,)\n"
          ],
          "name": "stdout"
        }
      ]
    },
    {
      "cell_type": "code",
      "metadata": {
        "id": "Ge7ysNVXxyYZ"
      },
      "source": [
        "def create_dummy_df(df, cat_df_cols, dummy_na, show=True):\n",
        "    '''\n",
        "    INPUT:\n",
        "    df - pandas dataframe with categorical variables you want to dummy\n",
        "    cat_df_cols - list of strings that are associated with names of the categorical columns\n",
        "    dummy_na - Bool holding whether you want to dummy NA vals of categorical columns or not\n",
        "    \n",
        "    OUTPUT:\n",
        "    df - a new dataframe that has the following characteristics:\n",
        "            1. contains all columns that were not specified as categorical\n",
        "            2. removes all the original columns in cat_df_cols\n",
        "            3. dummy columns for each of the categorical columns in cat_df_cols\n",
        "            4. if dummy_na is True - it also contains dummy columns for the NaN values\n",
        "            5. Use a prefix of the column name with an underscore (_) for separating \n",
        "    '''\n",
        "\n",
        "    if show: print(\"Original shape: \" + str(df.shape))\n",
        "\n",
        "    # For categorical columns only\n",
        "    for col_name in df[cat_df_cols]:\n",
        "        \n",
        "        #print(col_name)\n",
        "\n",
        "        # Get its dummies in a df\n",
        "        df_with_dummies = pd.get_dummies(df[col_name], dummy_na=dummy_na, prefix=col_name, drop_first=True)\n",
        "        \n",
        "        # Attached df_with_dummies to original and store them at the end\n",
        "        df = df.join(df_with_dummies, lsuffix=col_name)\n",
        "\n",
        "        # Remove all the original columns in cat_df_cols\n",
        "        del df[col_name]\n",
        "    \n",
        "    #print(df.columns)\n",
        "    if show: print(\"Final shape: \" + str(df.shape))\n",
        "    \n",
        "    return df"
      ],
      "execution_count": null,
      "outputs": []
    },
    {
      "cell_type": "code",
      "metadata": {
        "id": "9UESr2ZZzGE9",
        "colab": {
          "base_uri": "https://localhost:8080/"
        },
        "outputId": "a2335b87-d5c4-49fb-e021-5f6d6f513afc"
      },
      "source": [
        "# Override X with dummies for categorical variables\n",
        "X = create_dummy_df(X, X.columns, dummy_na=True)"
      ],
      "execution_count": null,
      "outputs": [
        {
          "output_type": "stream",
          "text": [
            "Original shape: (3818, 80)\n",
            "Final shape: (3818, 76075)\n"
          ],
          "name": "stdout"
        }
      ]
    },
    {
      "cell_type": "code",
      "metadata": {
        "id": "E6wjOgVBzHLn"
      },
      "source": [
        "# Split into training and test sets\n",
        "X_train, X_test, y_train, y_test = train_test_split(X, y, test_size=0.3, random_state = 42)"
      ],
      "execution_count": null,
      "outputs": []
    },
    {
      "cell_type": "code",
      "metadata": {
        "id": "JfIhtIpNBwJ0"
      },
      "source": [
        "# Impute the mean of the column for any missing values in numerical columns\n",
        "X_train = X_train.apply(lambda col: col.fillna(col.mean()))"
      ],
      "execution_count": null,
      "outputs": []
    },
    {
      "cell_type": "markdown",
      "metadata": {
        "id": "107ce683"
      },
      "source": [
        "## **Modelling**"
      ]
    },
    {
      "cell_type": "code",
      "metadata": {
        "id": "aGdA5hYNihM7"
      },
      "source": [
        "# Get together predictions from all models\n",
        "y_pred_models = []"
      ],
      "execution_count": null,
      "outputs": []
    },
    {
      "cell_type": "markdown",
      "metadata": {
        "id": "sYd8ImL0tskR"
      },
      "source": [
        "### Base Models\n",
        "\n",
        "The following simple base models are included in order to compare relative metrics from more advanced models:\n",
        "- Random Model\n",
        "- Previous Value Model\n",
        "- Mean Model"
      ]
    },
    {
      "cell_type": "markdown",
      "metadata": {
        "id": "agRJa6OrugS8"
      },
      "source": [
        "#### Random Model"
      ]
    },
    {
      "cell_type": "code",
      "metadata": {
        "id": "SOm_lPebY691"
      },
      "source": [
        "# Perform predictions with a random model whithin the range of the training data\n",
        "\n",
        "# includes both limits\n",
        "y_pred_rand_model = pd.Series(np.random.uniform(min(y_train), max(y_train), size=(len(y_test))))\n",
        "len(y_pred_rand_model)\n",
        "\n",
        "y_pred_models.append(y_pred_rand_model)"
      ],
      "execution_count": null,
      "outputs": []
    },
    {
      "cell_type": "markdown",
      "metadata": {
        "id": "fCMgvlLawfLk"
      },
      "source": [
        "#### Previous Value Model"
      ]
    },
    {
      "cell_type": "code",
      "metadata": {
        "id": "swZCwNA2vxPh"
      },
      "source": [
        "# If time series, a model that always predicts the previous value (y_pred_prevv_model)\n",
        "# y_pred_models.append(y_pred_prevv_model)"
      ],
      "execution_count": null,
      "outputs": []
    },
    {
      "cell_type": "markdown",
      "metadata": {
        "id": "-K6Z6Fhfx6wD"
      },
      "source": [
        "#### Mean/Mode Model"
      ]
    },
    {
      "cell_type": "code",
      "metadata": {
        "id": "WLWnUn4nxm12",
        "colab": {
          "base_uri": "https://localhost:8080/"
        },
        "outputId": "c8d23ce0-6e97-4f0c-f55c-48c8dd675638"
      },
      "source": [
        "# Predict always the mean of response training data\n",
        "\n",
        "print(\"y_train mean:\" +  str(np.mean(y_train)))\n",
        "print(\"y_test length:\" + str(len(y_test)), end=\"\\n\\n\")\n",
        "\n",
        "y_pred_mean_model = pd.Series([np.mean(y_train)]).repeat(len(y_test))\n",
        "\n",
        "print(type(y_pred_mean_model), end=\"\\n\\n\")\n",
        "print(y_pred_mean_model)\n",
        "\n",
        "y_pred_models.append(y_pred_mean_model)"
      ],
      "execution_count": null,
      "outputs": [
        {
          "output_type": "stream",
          "text": [
            "y_train mean:127.2997754491018\n",
            "y_test length:1146\n",
            "\n",
            "<class 'pandas.core.series.Series'>\n",
            "\n",
            "0    127.299775\n",
            "0    127.299775\n",
            "0    127.299775\n",
            "0    127.299775\n",
            "0    127.299775\n",
            "        ...    \n",
            "0    127.299775\n",
            "0    127.299775\n",
            "0    127.299775\n",
            "0    127.299775\n",
            "0    127.299775\n",
            "Length: 1146, dtype: float64\n"
          ],
          "name": "stdout"
        }
      ]
    },
    {
      "cell_type": "markdown",
      "metadata": {
        "id": "nhzW_fG0RXK9"
      },
      "source": [
        "### Linear Regression"
      ]
    },
    {
      "cell_type": "code",
      "metadata": {
        "id": "Gh8QL6IceHJw"
      },
      "source": [
        "# Instantiate a LinearRegression model with normalized data\n",
        "lm_model = LinearRegression(normalize=True)"
      ],
      "execution_count": null,
      "outputs": []
    },
    {
      "cell_type": "code",
      "metadata": {
        "id": "iJenGa-GCl1G",
        "colab": {
          "base_uri": "https://localhost:8080/"
        },
        "outputId": "b24d457b-3c0a-4f26-b3f1-f2e3442c417b"
      },
      "source": [
        "# Fit the model to the training data\n",
        "lm_model.fit(X_train, y_train)"
      ],
      "execution_count": null,
      "outputs": [
        {
          "output_type": "execute_result",
          "data": {
            "text/plain": [
              "LinearRegression(copy_X=True, fit_intercept=True, n_jobs=None, normalize=True)"
            ]
          },
          "metadata": {
            "tags": []
          },
          "execution_count": 30
        }
      ]
    },
    {
      "cell_type": "code",
      "metadata": {
        "id": "9dcc75cf"
      },
      "source": [
        "# Predict the response for the test data\n",
        "y_pred_lm_model = lm_model.predict(X_test)\n",
        "y_pred_models.append(y_pred_lm_model)"
      ],
      "execution_count": null,
      "outputs": []
    },
    {
      "cell_type": "markdown",
      "metadata": {
        "id": "I0ZRcJzRv8L4"
      },
      "source": [
        "### Random Forest"
      ]
    },
    {
      "cell_type": "code",
      "metadata": {
        "id": "p2vetTW9v_Cw"
      },
      "source": [
        "# Instantiate the model\n",
        "rf_model = RandomForestClassifier(random_state=42, verbose=1)"
      ],
      "execution_count": null,
      "outputs": []
    },
    {
      "cell_type": "code",
      "metadata": {
        "colab": {
          "base_uri": "https://localhost:8080/"
        },
        "id": "r6a7Cs9Dz1LJ",
        "outputId": "52369096-c9da-418e-814d-90c0febb9cae"
      },
      "source": [
        "# Fit the model to the training data\n",
        "rf_model.fit(X_train, y_train)"
      ],
      "execution_count": null,
      "outputs": [
        {
          "output_type": "stream",
          "text": [
            "[Parallel(n_jobs=1)]: Using backend SequentialBackend with 1 concurrent workers.\n",
            "[Parallel(n_jobs=1)]: Done 100 out of 100 | elapsed:   47.1s finished\n"
          ],
          "name": "stderr"
        },
        {
          "output_type": "execute_result",
          "data": {
            "text/plain": [
              "RandomForestClassifier(bootstrap=True, ccp_alpha=0.0, class_weight=None,\n",
              "                       criterion='gini', max_depth=None, max_features='auto',\n",
              "                       max_leaf_nodes=None, max_samples=None,\n",
              "                       min_impurity_decrease=0.0, min_impurity_split=None,\n",
              "                       min_samples_leaf=1, min_samples_split=2,\n",
              "                       min_weight_fraction_leaf=0.0, n_estimators=100,\n",
              "                       n_jobs=None, oob_score=False, random_state=42, verbose=1,\n",
              "                       warm_start=False)"
            ]
          },
          "metadata": {
            "tags": []
          },
          "execution_count": 33
        }
      ]
    },
    {
      "cell_type": "code",
      "metadata": {
        "colab": {
          "base_uri": "https://localhost:8080/"
        },
        "id": "tDVJIywHz5mD",
        "outputId": "d6450fdf-68d4-4815-f20a-fef612c1506a"
      },
      "source": [
        "# Predict the response for the test data\n",
        "y_pred_rf_model = rf_model.predict(X_test)\n",
        "y_pred_models.append(y_pred_rf_model)"
      ],
      "execution_count": null,
      "outputs": [
        {
          "output_type": "stream",
          "text": [
            "[Parallel(n_jobs=1)]: Using backend SequentialBackend with 1 concurrent workers.\n",
            "[Parallel(n_jobs=1)]: Done 100 out of 100 | elapsed:    0.3s finished\n"
          ],
          "name": "stderr"
        }
      ]
    },
    {
      "cell_type": "markdown",
      "metadata": {
        "id": "sj8Non3ERb1k"
      },
      "source": [
        "### XGBoost"
      ]
    },
    {
      "cell_type": "code",
      "metadata": {
        "id": "QWvQjY16FJpA"
      },
      "source": [
        "# Instantiate the model\n",
        "xgb_model = XGBRegressor(objective=\"reg:squarederror\", random_state=42)"
      ],
      "execution_count": null,
      "outputs": []
    },
    {
      "cell_type": "code",
      "metadata": {
        "id": "gv5BY8rHQXLK"
      },
      "source": [
        "# Necessary cleaning for xgb model fitting and prediction\n",
        "regex = re.compile(r\"\\[|\\]|<\", re.IGNORECASE)\n",
        "X_train.columns = [regex.sub(\"_\", col) if any(x in str(col) for x in set(('[', ']', '<'))) else col for col in X_train.columns.values]\n",
        "X_test.columns = [regex.sub(\"_\", col) if any(x in str(col) for x in set(('[', ']', '<'))) else col for col in X_test.columns.values]"
      ],
      "execution_count": null,
      "outputs": []
    },
    {
      "cell_type": "code",
      "metadata": {
        "colab": {
          "base_uri": "https://localhost:8080/"
        },
        "id": "ftZrJNR0FiKw",
        "outputId": "00a10993-0201-4b54-d916-fb730e85e40a"
      },
      "source": [
        "# Fit the model to the training data\n",
        "xgb_model.fit(X_train, y_train)"
      ],
      "execution_count": null,
      "outputs": [
        {
          "output_type": "execute_result",
          "data": {
            "text/plain": [
              "XGBRegressor(base_score=0.5, booster='gbtree', colsample_bylevel=1,\n",
              "             colsample_bynode=1, colsample_bytree=1, gamma=0,\n",
              "             importance_type='gain', learning_rate=0.1, max_delta_step=0,\n",
              "             max_depth=3, min_child_weight=1, missing=None, n_estimators=100,\n",
              "             n_jobs=1, nthread=None, objective='reg:squarederror',\n",
              "             random_state=42, reg_alpha=0, reg_lambda=1, scale_pos_weight=1,\n",
              "             seed=None, silent=None, subsample=1, verbosity=1)"
            ]
          },
          "metadata": {
            "tags": []
          },
          "execution_count": 37
        }
      ]
    },
    {
      "cell_type": "code",
      "metadata": {
        "id": "gtVPDjJyFhJM"
      },
      "source": [
        "# Predict the response for the test data\n",
        "y_pred_xgb_model = xgb_model.predict(X_test)\n",
        "y_pred_models.append(y_pred_xgb_model)"
      ],
      "execution_count": null,
      "outputs": []
    },
    {
      "cell_type": "markdown",
      "metadata": {
        "id": "6f9c4326"
      },
      "source": [
        "## **Evaluation**"
      ]
    },
    {
      "cell_type": "code",
      "metadata": {
        "id": "BCRyvOAskVJk"
      },
      "source": [
        "def mean_absolute_percentage_error(y_true, y_pred):\n",
        "    return np.mean(np.abs((y_true - y_pred) / y_true)) * 100"
      ],
      "execution_count": null,
      "outputs": []
    },
    {
      "cell_type": "code",
      "metadata": {
        "id": "RK7dkPhZiFy6"
      },
      "source": [
        "# Get results from model predictions (R-squared, RMSE and MAPE)\n",
        "\n",
        "eval_metrics = {\n",
        "    \"R^2\": [r2_score(y_test, y_pred) for y_pred in y_pred_models],\n",
        "    \"RMSE\": [mean_squared_error(y_test, y_pred, squared=False) for y_pred in y_pred_models],\n",
        "    \"MAPE\": [mean_absolute_percentage_error(y_test, y_pred) for y_pred in y_pred_models]\n",
        "}"
      ],
      "execution_count": null,
      "outputs": []
    },
    {
      "cell_type": "code",
      "metadata": {
        "colab": {
          "base_uri": "https://localhost:8080/"
        },
        "id": "_fT-0P-8TZkU",
        "outputId": "3c05b2fd-1d73-435b-807c-cad7feb2c084"
      },
      "source": [
        "print(\"{:<10} {:<10} {:<10} {:<10} {:<10} {:<10}\".format('Metric', 'rand_model', 'mean_model', 'lm_model', 'rf_model', 'xgb_model'))\n",
        "\n",
        "for k, v in eval_metrics.items():\n",
        "  a, b, c, d, e = v\n",
        "  print(\"{:<10} {:<10.2f} {:<10.2f} {:<10.2f} {:<10.2f} {:<10.2f}\".format(k, a, b, c, d, e))"
      ],
      "execution_count": null,
      "outputs": [
        {
          "output_type": "stream",
          "text": [
            "Metric     rand_model mean_model lm_model   rf_model   xgb_model \n",
            "R^2        -25.97     -0.00      0.33       0.41       0.57      \n",
            "RMSE       480.57     92.57      75.63      71.30      60.50     \n",
            "MAPE       409.37     49.76      43.94      27.59      30.29     \n"
          ],
          "name": "stdout"
        }
      ]
    },
    {
      "cell_type": "code",
      "metadata": {
        "id": "9N-DGkURvdFX"
      },
      "source": [
        "# # Use a breakpoint if necessary\n",
        "# sys.exit(\"Just a breakpoint!\")"
      ],
      "execution_count": null,
      "outputs": []
    },
    {
      "cell_type": "markdown",
      "metadata": {
        "id": "4AIYXSNPjWOn"
      },
      "source": [
        "## **Visualization**"
      ]
    },
    {
      "cell_type": "code",
      "metadata": {
        "colab": {
          "base_uri": "https://localhost:8080/",
          "height": 593
        },
        "id": "3xOrG220jsk1",
        "outputId": "d64884bc-7fcd-4dff-eaef-52e6050449fc"
      },
      "source": [
        "# Plot evaluation metrics\n",
        "\n",
        "models = [\"rand_model\", \"mean_model\", \"lm_model\", \"rf_model\", \"xgb_model\"]\n",
        "metrics = [\"R^2\", \"RMSE\", \"MAPE\"]\n",
        "\n",
        "i = 0\n",
        "for metric in metrics:\n",
        "  fig = plt.figure(figsize = (6, 2))\n",
        "  axes = fig.add_axes([0,0,1,1])\n",
        "  values = eval_metrics[metric][1:]\n",
        "  axes.bar(models[1:], values)\n",
        "  plt.title(metric)\n",
        "  \n",
        "  if metrics[i] == \"R^2\":\n",
        "    axes.set_ylim([0,1])\n",
        "  \n",
        "  i+=1\n",
        "  plt.show()"
      ],
      "execution_count": null,
      "outputs": [
        {
          "output_type": "display_data",
          "data": {
            "image/png": "[encoded data removed]",
            "text/plain": [
              "<Figure size 432x144 with 1 Axes>"
            ]
          },
          "metadata": {
            "tags": [],
            "needs_background": "light"
          }
        },
        {
          "output_type": "display_data",
          "data": {
            "image/png": "[encoded data removed]",
            "text/plain": [
              "<Figure size 432x144 with 1 Axes>"
            ]
          },
          "metadata": {
            "tags": [],
            "needs_background": "light"
          }
        },
        {
          "output_type": "display_data",
          "data": {
            "image/png": "[encoded data removed]",
            "text/plain": [
              "<Figure size 432x144 with 1 Axes>"
            ]
          },
          "metadata": {
            "tags": [],
            "needs_background": "light"
          }
        }
      ]
    },
    {
      "cell_type": "markdown",
      "metadata": {
        "id": "uBTTq7436Oqz"
      },
      "source": [
        "## **End**"
      ]
    },
    {
      "cell_type": "markdown",
      "metadata": {
        "id": "56ad0a79"
      },
      "source": [
        "### Possible Improvements\n",
        "\n",
        "- Cross validation\n",
        "- Outliers\n",
        "- Standardization\n",
        "- More relevant visualizations\n",
        "- Check clean code and style check practices\n",
        "- plot only the necessary half of the correlation matrix\n",
        "- If its a time series, a model that always predicts the previous value (y_pred_prevv_model)\n",
        "- Add option for classification problems in random model\n",
        "- Modify column names changing spaces for underscores at the beginning of the process, not in the middle\n",
        "- Automatize getting metrics in eval_metrics\n",
        "- Automatize visualization depending on models and metrics used\n",
        "- Show value in visualization\n",
        "- Develop previous value model\n",
        "- Write unit tests for DS using assert keyword and library pytest\n",
        "- Check runtime of the whole code and blocks of code with time.time()\n",
        "- Mean model for classification (mode)"
      ]
    },
    {
      "cell_type": "markdown",
      "metadata": {
        "id": "87650a8f"
      },
      "source": [
        "---\n",
        "\n",
        "[Github repository](https://github.com/marcoshr/Seattle_Airbnb_Open_Data.git)  \n",
        "[Medium blog post](https://medium.com/@marcoshr/how-well-can-you-predict-prices-of-airbnb-houses-7ea54dc5140c)\n",
        "\n",
        "---\n",
        "\n",
        "2021  \n",
        "Canary Islands, Spain  \n",
        "[Marcos Hernández Rodríguez](https://www.linkedin.com/in/marcos-hern%C3%A1ndez-rodr%C3%ADguez/)\n",
        "\n",
        "---"
      ]
    }
  ]
}